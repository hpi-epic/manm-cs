{
 "cells": [
  {
   "cell_type": "code",
   "execution_count": 85,
   "id": "chronic-family",
   "metadata": {},
   "outputs": [],
   "source": [
    "import pandas as pd\n",
    "import numpy as np\n",
    "\n",
    "from bokeh.io import output_notebook, reset_output, show, output_file\n",
    "from bokeh.application import Application\n",
    "from bokeh.application.handlers import FunctionHandler\n",
    "\n",
    "from scipy.stats import norm\n",
    "import seaborn as sns\n",
    "import matplotlib.pyplot as plt\n",
    "import networkx as nx\n",
    "from scipy.stats import pearsonr\n",
    "\n",
    "from bokeh.models import (BoxZoomTool, Circle, HoverTool,\n",
    "                          MultiLine, Plot, Range1d, ResetTool,)\n",
    "from bokeh.palettes import Spectral11\n",
    "from bokeh.plotting import from_networkx\n",
    "\n",
    "from bokeh.layouts import gridplot\n",
    "from bokeh.plotting import figure\n",
    "\n",
    "from src.graph import Graph, GraphBuilder\n",
    "from scipy.stats import norm\n",
    "import holoviews as hv\n",
    "from holoviews import opts\n",
    "\n",
    "import causaldag as cd"
   ]
  },
  {
   "cell_type": "code",
   "execution_count": 97,
   "id": "mental-closer",
   "metadata": {},
   "outputs": [
    {
     "data": {
      "text/html": [
       "<div>\n",
       "<style scoped>\n",
       "    .dataframe tbody tr th:only-of-type {\n",
       "        vertical-align: middle;\n",
       "    }\n",
       "\n",
       "    .dataframe tbody tr th {\n",
       "        vertical-align: top;\n",
       "    }\n",
       "\n",
       "    .dataframe thead th {\n",
       "        text-align: right;\n",
       "    }\n",
       "</style>\n",
       "<table border=\"1\" class=\"dataframe\">\n",
       "  <thead>\n",
       "    <tr style=\"text-align: right;\">\n",
       "      <th></th>\n",
       "      <th>0</th>\n",
       "      <th>1</th>\n",
       "      <th>2</th>\n",
       "      <th>3</th>\n",
       "      <th>4</th>\n",
       "      <th>5</th>\n",
       "      <th>6</th>\n",
       "      <th>7</th>\n",
       "      <th>8</th>\n",
       "      <th>9</th>\n",
       "    </tr>\n",
       "  </thead>\n",
       "  <tbody>\n",
       "    <tr>\n",
       "      <th>0</th>\n",
       "      <td>0</td>\n",
       "      <td>0</td>\n",
       "      <td>0</td>\n",
       "      <td>0</td>\n",
       "      <td>0</td>\n",
       "      <td>-0.980561</td>\n",
       "      <td>-0.875336</td>\n",
       "      <td>1.394429</td>\n",
       "      <td>4.596976</td>\n",
       "      <td>-3.664125</td>\n",
       "    </tr>\n",
       "  </tbody>\n",
       "</table>\n",
       "</div>"
      ],
      "text/plain": [
       "   0  1  2  3  4         5         6         7         8         9\n",
       "0  0  0  0  0  0 -0.980561 -0.875336  1.394429  4.596976 -3.664125"
      ]
     },
     "execution_count": 97,
     "metadata": {},
     "output_type": "execute_result"
    }
   ],
   "source": [
    "def graph_from_args(args) -> Graph:\n",
    "    return GraphBuilder() \\\n",
    "        .with_num_nodes(args[\"num_nodes\"]) \\\n",
    "        .with_edge_density(args[\"edge_density\"]) \\\n",
    "        .with_discrete_node_ratio(args[\"discrete_node_ratio\"]) \\\n",
    "        .with_discrete_signal_to_noise_ratio(args[\"discrete_signal_to_noise_ratio\"]) \\\n",
    "        .with_min_discrete_value_classes(args[\"min_discrete_value_classes\"]) \\\n",
    "        .with_max_discrete_value_classes(args[\"max_discrete_value_classes\"]) \\\n",
    "        .with_continuous_noise_std(args[\"continuous_noise_std\"]) \\\n",
    "        .with_continuous_beta_mean(args[\"continuous_beta_mean\"]) \\\n",
    "        .with_continuous_beta_std(args[\"continuous_beta_std\"]) \\\n",
    "        .build()\n",
    "\n",
    "args = {}\n",
    "args[\"num_nodes\"] = 10\n",
    "args[\"num_samples\"] = 1\n",
    "args[\"edge_density\"] = 1.0\n",
    "args[\"discrete_node_ratio\"] = 0.5\n",
    "args[\"discrete_signal_to_noise_ratio\"] = 0.9\n",
    "args[\"min_discrete_value_classes\"] = 3\n",
    "args[\"max_discrete_value_classes\"] = 4\n",
    "args[\"continuous_noise_std\"] = 1.0\n",
    "args[\"continuous_beta_mean\"] = 1.0\n",
    "args[\"continuous_beta_std\"] = 1.0\n",
    "args[\"num_processes\"] = 1\n",
    "\n",
    "graph_from_args(args)\n",
    "G = graph_from_args(args)\n",
    "dfs = G.sample(num_observations=args[\"num_samples\"], num_processes=args[\"num_processes\"])\n",
    "df = pd.concat(dfs, copy=False)\n",
    "df = df.reindex(sorted(df.columns), axis=1)\n",
    "\n",
    "ground_truth = G.to_networkx_graph()\n",
    "df.head()"
   ]
  },
  {
   "cell_type": "code",
   "execution_count": 98,
   "id": "cognitive-special",
   "metadata": {},
   "outputs": [
    {
     "name": "stdout",
     "output_type": "stream",
     "text": [
      "('cpdag: {frozenset({8, 2}), frozenset({1, 4}), frozenset({4, 6}), '\n",
      " 'frozenset({2, 3}), frozenset({9, 3}), frozenset({2, 6}), frozenset({4, 5}), '\n",
      " 'frozenset({9, 7}), frozenset({8, 7}), frozenset({0, 5}), frozenset({9, 4}), '\n",
      " 'frozenset({9, 2}), frozenset({9, 5}), frozenset({3, 4}), frozenset({9, 6}), '\n",
      " 'frozenset({0, 6}), frozenset({1, 7}), frozenset({0, 3}), frozenset({0, 2}), '\n",
      " 'frozenset({0, 4}), frozenset({2, 4}), frozenset({5, 6}), frozenset({8, 1}), '\n",
      " 'frozenset({3, 5}), frozenset({8, 5}), frozenset({0, 7}), frozenset({1, 6}), '\n",
      " 'frozenset({1, 3}), frozenset({4, 7}), frozenset({3, 7}), frozenset({0, 1}), '\n",
      " 'frozenset({6, 7}), frozenset({3, 6}), frozenset({8, 3}), frozenset({8, 6}), '\n",
      " 'frozenset({1, 5}), frozenset({2, 7}), frozenset({5, 7}), frozenset({0, 8}), '\n",
      " 'frozenset({0, 9}), frozenset({1, 9}), frozenset({1, 2}), frozenset({8, 9}), '\n",
      " 'frozenset({2, 5}), frozenset({8, 4})}')\n",
      "('Ground truth: [(0, 1), (0, 2), (0, 3), (0, 4), (0, 5), (0, 6), (0, 7), (0, '\n",
      " '8), (0, 9), (1, 2), (1, 3), (1, 4), (1, 5), (1, 6), (1, 7), (1, 8), (1, 9), '\n",
      " '(2, 3), (2, 4), (2, 5), (2, 6), (2, 7), (2, 8), (2, 9), (3, 4), (3, 5), (3, '\n",
      " '6), (3, 7), (3, 8), (3, 9), (4, 5), (4, 6), (4, 7), (4, 8), (4, 9), (5, 6), '\n",
      " '(5, 7), (5, 8), (5, 9), (6, 7), (6, 8), (6, 9), (7, 8), (7, 9), (8, 9)]')\n"
     ]
    },
    {
     "data": {
      "text/plain": [
       "OutEdgeView([(0, 1), (0, 2), (0, 3), (0, 4), (0, 5), (0, 6), (0, 7), (0, 8), (0, 9), (1, 2), (1, 3), (1, 4), (1, 5), (1, 6), (1, 7), (1, 8), (1, 9), (1, 0), (2, 3), (2, 4), (2, 5), (2, 6), (2, 7), (2, 8), (2, 9), (2, 0), (2, 1), (3, 4), (3, 5), (3, 6), (3, 7), (3, 8), (3, 9), (3, 2), (3, 0), (3, 1), (4, 5), (4, 6), (4, 7), (4, 8), (4, 9), (4, 1), (4, 3), (4, 0), (4, 2), (5, 6), (5, 7), (5, 8), (5, 9), (5, 4), (5, 0), (5, 3), (5, 1), (5, 2), (6, 7), (6, 8), (6, 9), (6, 4), (6, 2), (6, 0), (6, 5), (6, 1), (6, 3), (7, 8), (7, 9), (7, 1), (7, 0), (7, 4), (7, 3), (7, 6), (7, 2), (7, 5), (8, 9), (8, 2), (8, 7), (8, 1), (8, 5), (8, 3), (8, 6), (8, 0), (8, 4), (9, 3), (9, 7), (9, 4), (9, 2), (9, 5), (9, 6), (9, 0), (9, 1), (9, 8)])"
      ]
     },
     "execution_count": 98,
     "metadata": {},
     "output_type": "execute_result"
    }
   ],
   "source": [
    "import causaldag as cd\n",
    "from pprint import pprint\n",
    "dag = cd.DAG(arcs=set(ground_truth.edges))\n",
    "cpdag = dag.cpdag()\n",
    "\n",
    "pprint(f\"cpdag: {cpdag.edges}\")\n",
    "pprint(f\"Ground truth: {ground_truth.edges}\")\n",
    "\n",
    "cpdag = ground_truth.copy()\n",
    "for undirected_edge in dag.cpdag().edges:\n",
    "    undirected_edge = list(undirected_edge)\n",
    "    cpdag.add_edge(undirected_edge[0], undirected_edge[1])\n",
    "    cpdag.add_edge(undirected_edge[1], undirected_edge[0])\n",
    "\n",
    "cpdag.edges"
   ]
  },
  {
   "cell_type": "code",
   "execution_count": 28,
   "id": "third-inflation",
   "metadata": {},
   "outputs": [
    {
     "data": {
      "text/plain": [
       "3"
      ]
     },
     "execution_count": 28,
     "metadata": {},
     "output_type": "execute_result"
    }
   ],
   "source": [
    "from causaldag import rand, partial_correlation_suffstat, partial_correlation_test, MemoizedCI_Tester, gsp\n",
    "import numpy as np\n",
    "np.random.seed(12312)\n",
    "nnodes = 5\n",
    "nodes = set(range(nnodes))\n",
    "dag = rand.directed_erdos(nnodes, .5)\n",
    "gdag = rand.rand_weights(dag)\n",
    "samples = gdag.sample(100)\n",
    "suffstat = partial_correlation_suffstat(samples)\n",
    "ci_tester = MemoizedCI_Tester(partial_correlation_test, suffstat, alpha=1e-3)\n",
    "est_dag = gsp(nodes, ci_tester)\n",
    "dag.shd_skeleton(est_dag)"
   ]
  },
  {
   "cell_type": "code",
   "execution_count": 29,
   "id": "cubic-cleveland",
   "metadata": {},
   "outputs": [
    {
     "data": {
      "text/plain": [
       "[0][4|0][3|0][2|0][1|0,3]"
      ]
     },
     "execution_count": 29,
     "metadata": {},
     "output_type": "execute_result"
    }
   ],
   "source": [
    "dag"
   ]
  },
  {
   "cell_type": "code",
   "execution_count": 30,
   "id": "seven-ordering",
   "metadata": {},
   "outputs": [
    {
     "data": {
      "text/plain": [
       "{frozenset({0, 3}),\n",
       " frozenset({0, 1}),\n",
       " frozenset({0, 2}),\n",
       " frozenset({1, 3}),\n",
       " frozenset({0, 4})}"
      ]
     },
     "execution_count": 30,
     "metadata": {},
     "output_type": "execute_result"
    }
   ],
   "source": [
    "dag.cpdag().edges"
   ]
  },
  {
   "cell_type": "code",
   "execution_count": null,
   "id": "competitive-soviet",
   "metadata": {},
   "outputs": [],
   "source": []
  }
 ],
 "metadata": {
  "kernelspec": {
   "display_name": "Python 3",
   "language": "python",
   "name": "python3"
  },
  "language_info": {
   "codemirror_mode": {
    "name": "ipython",
    "version": 3
   },
   "file_extension": ".py",
   "mimetype": "text/x-python",
   "name": "python",
   "nbconvert_exporter": "python",
   "pygments_lexer": "ipython3",
   "version": "3.8.5"
  }
 },
 "nbformat": 4,
 "nbformat_minor": 5
}
