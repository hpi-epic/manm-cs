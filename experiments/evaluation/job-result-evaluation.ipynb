{
 "cells": [
  {
   "cell_type": "code",
   "execution_count": 2,
   "id": "serious-england",
   "metadata": {},
   "outputs": [],
   "source": [
    "import pandas as pd\n",
    "import numpy as np\n",
    "import seaborn as sns\n",
    "import matplotlib.pyplot as plt\n",
    "import itertools\n",
    "import networkx as nx\n",
    "from requests.adapters import HTTPAdapter\n",
    "from requests.packages.urllib3.util.retry import Retry\n",
    "import requests\n",
    "import tempfile\n",
    "import logging\n",
    "from io import StringIO"
   ]
  },
  {
   "cell_type": "code",
   "execution_count": 3,
   "id": "beginning-peninsula",
   "metadata": {},
   "outputs": [],
   "source": [
    "#df = pd.read_csv(\"data/04022021.csv\")\n",
    "#df = pd.read_csv(\"data/05022021.csv\")\n",
    "#df = pd.read_csv(\"data/job_results_second_run.csv\")\n",
    "#df = pd.read_csv(\"data/job_results.csv\")\n",
    "#df = pd.read_csv(\"data/15022021.csv\")\n",
    "df1 = pd.read_csv(\"data/continuous_noise_005-02.csv\")\n",
    "df2 = pd.read_csv(\"data/continuous_noise_020-05.csv\")\n",
    "\n",
    "df = pd.concat([df1, df2], ignore_index=True)\n",
    "df = pd.read_csv(\"data/pcalg-vs-bnlearn-continuous.csv\")\n",
    "#df = pd.read_csv(\"data/discrete.csv\")\n",
    "#df.columns"
   ]
  },
  {
   "cell_type": "code",
   "execution_count": 4,
   "id": "improved-bruce",
   "metadata": {},
   "outputs": [
    {
     "data": {
      "text/plain": [
       "0         pcalg\n",
       "1         pcalg\n",
       "2         pcalg\n",
       "3         pcalg\n",
       "4         pcalg\n",
       "         ...   \n",
       "1195    bnlearn\n",
       "1196    bnlearn\n",
       "1197    bnlearn\n",
       "1198    bnlearn\n",
       "1199    bnlearn\n",
       "Name: experiment_config/algorithm/package, Length: 1200, dtype: object"
      ]
     },
     "execution_count": 4,
     "metadata": {},
     "output_type": "execute_result"
    }
   ],
   "source": [
    "df[\"experiment_config/algorithm/package\"]"
   ]
  },
  {
   "cell_type": "code",
   "execution_count": 5,
   "id": "egyptian-joyce",
   "metadata": {},
   "outputs": [],
   "source": [
    "dataset_config = [c for c in df.columns if c.startswith(\"config\")]\n",
    "gd_compare = [c for c in df.columns if c.startswith(\"gd_compare\") and not c.endswith(\"edges\")]\n",
    "result = ['result/dataset_loading_time', 'result/execution_time', 'result/meta_results/sampling_factor']\n",
    "experiment_config = [\"experiment_config/parameters/alpha\", \"experiment_config/algorithm/function\", \"experiment_config/algorithm/package\", \"experiment_config/name\"]"
   ]
  },
  {
   "cell_type": "code",
   "execution_count": 6,
   "id": "immune-right",
   "metadata": {},
   "outputs": [],
   "source": [
    "# Selecting relevant columns\n",
    "columns = dataset_config + gd_compare + experiment_config + result"
   ]
  },
  {
   "cell_type": "code",
   "execution_count": 7,
   "id": "attended-height",
   "metadata": {},
   "outputs": [],
   "source": [
    "#Renaming columns\n",
    "renaming_dict = {}\n",
    "for c in columns:\n",
    "    name_split = c.split(\"/\")\n",
    "    name = name_split[-1]\n",
    "    \n",
    "    if name == \"rate\":\n",
    "        name = name_split[-2]\n",
    "        \n",
    "    renaming_dict[c] = name\n",
    "\n",
    "cleaned_df = df[columns].rename(columns=renaming_dict)"
   ]
  },
  {
   "cell_type": "code",
   "execution_count": 8,
   "id": "collect-exploration",
   "metadata": {},
   "outputs": [
    {
     "name": "stderr",
     "output_type": "stream",
     "text": [
      "<ipython-input-8-4a95f828dd7a>:2: UserWarning: Boolean Series key will be reindexed to match DataFrame index.\n",
      "  mix_data = cleaned_df[cleaned_df.discrete_node_ratio > 0][cleaned_df.discrete_node_ratio < 1]\n"
     ]
    }
   ],
   "source": [
    "continous_data = cleaned_df[cleaned_df.discrete_node_ratio == 0]\n",
    "mix_data = cleaned_df[cleaned_df.discrete_node_ratio > 0][cleaned_df.discrete_node_ratio < 1]\n",
    "discrete_data = cleaned_df[cleaned_df.discrete_node_ratio == 1]"
   ]
  },
  {
   "cell_type": "code",
   "execution_count": 11,
   "id": "alert-damage",
   "metadata": {},
   "outputs": [
    {
     "data": {
      "text/plain": [
       "<seaborn.axisgrid.FacetGrid at 0x7fb368506b50>"
      ]
     },
     "metadata": {},
     "output_type": "display_data"
    },
    {
     "data": {
      "image/png": "[encoded data removed]",
      "text/plain": [
       "<Figure size 1370.12x432 with 3 Axes>"
      ]
     },
     "metadata": {
      "needs_background": "light"
     },
     "output_type": "display_data"
    }
   ],
   "source": [
    "[\"num_nodes\", \"edge_density\", \"num_samples\", \"alpha\", \"discrete_node_ratio\"]\n",
    "metrics = [\"hamming_distance\"] #\"graph_edit_distance\", \"mean_jaccard_coefficient\"]\n",
    "plotted_data = cleaned_df\n",
    "\n",
    "for metric in metrics:\n",
    "    \n",
    "    x=\"sampling_factor\"\n",
    "    y=metric\n",
    "    #hue=\"sampling_factor\"\n",
    "    hue=\"package\"\n",
    "    #hue=\"generator\"\n",
    "    row=\"edge_density\"\n",
    "    col=\"num_nodes\"\n",
    "    \n",
    "    g = sns.catplot(\n",
    "        data=plotted_data,\n",
    "        kind=\"bar\",\n",
    "        x=x,\n",
    "        y=metric,\n",
    "        hue=hue,\n",
    "        row=row,\n",
    "        col=col,\n",
    "        palette=\"dark\",\n",
    "        alpha=.6,\n",
    "        height=6,\n",
    "        facet_kws=dict(margin_titles=True),\n",
    "    )\n",
    "    #plt.title(f'Metric: {metric}, x={x}, y={y}, hue={hue}, row={row}, col={col}')\n",
    "    display(g.despine(left=True))\n",
    "    g.savefig(\"output.png\")"
   ]
  },
  {
   "cell_type": "code",
   "execution_count": 10,
   "id": "southwest-keyboard",
   "metadata": {},
   "outputs": [
    {
     "data": {
      "text/html": [
       "<div>\n",
       "<style scoped>\n",
       "    .dataframe tbody tr th:only-of-type {\n",
       "        vertical-align: middle;\n",
       "    }\n",
       "\n",
       "    .dataframe tbody tr th {\n",
       "        vertical-align: top;\n",
       "    }\n",
       "\n",
       "    .dataframe thead th {\n",
       "        text-align: right;\n",
       "    }\n",
       "</style>\n",
       "<table border=\"1\" class=\"dataframe\">\n",
       "  <thead>\n",
       "    <tr style=\"text-align: right;\">\n",
       "      <th></th>\n",
       "      <th>hamming_distance</th>\n",
       "      <th>hamming_distance_pcdag</th>\n",
       "    </tr>\n",
       "  </thead>\n",
       "  <tbody>\n",
       "    <tr>\n",
       "      <th>80</th>\n",
       "      <td>0.366667</td>\n",
       "      <td>0.355556</td>\n",
       "    </tr>\n",
       "    <tr>\n",
       "      <th>81</th>\n",
       "      <td>0.322222</td>\n",
       "      <td>0.333333</td>\n",
       "    </tr>\n",
       "    <tr>\n",
       "      <th>82</th>\n",
       "      <td>0.355556</td>\n",
       "      <td>0.366667</td>\n",
       "    </tr>\n",
       "    <tr>\n",
       "      <th>83</th>\n",
       "      <td>0.333333</td>\n",
       "      <td>0.344444</td>\n",
       "    </tr>\n",
       "    <tr>\n",
       "      <th>84</th>\n",
       "      <td>0.344444</td>\n",
       "      <td>0.355556</td>\n",
       "    </tr>\n",
       "    <tr>\n",
       "      <th>...</th>\n",
       "      <td>...</td>\n",
       "      <td>...</td>\n",
       "    </tr>\n",
       "    <tr>\n",
       "      <th>1195</th>\n",
       "      <td>0.342105</td>\n",
       "      <td>0.347368</td>\n",
       "    </tr>\n",
       "    <tr>\n",
       "      <th>1196</th>\n",
       "      <td>0.376316</td>\n",
       "      <td>0.381579</td>\n",
       "    </tr>\n",
       "    <tr>\n",
       "      <th>1197</th>\n",
       "      <td>NaN</td>\n",
       "      <td>NaN</td>\n",
       "    </tr>\n",
       "    <tr>\n",
       "      <th>1198</th>\n",
       "      <td>0.371053</td>\n",
       "      <td>0.376316</td>\n",
       "    </tr>\n",
       "    <tr>\n",
       "      <th>1199</th>\n",
       "      <td>0.378947</td>\n",
       "      <td>0.389474</td>\n",
       "    </tr>\n",
       "  </tbody>\n",
       "</table>\n",
       "<p>882 rows × 2 columns</p>\n",
       "</div>"
      ],
      "text/plain": [
       "      hamming_distance  hamming_distance_pcdag\n",
       "80            0.366667                0.355556\n",
       "81            0.322222                0.333333\n",
       "82            0.355556                0.366667\n",
       "83            0.333333                0.344444\n",
       "84            0.344444                0.355556\n",
       "...                ...                     ...\n",
       "1195          0.342105                0.347368\n",
       "1196          0.376316                0.381579\n",
       "1197               NaN                     NaN\n",
       "1198          0.371053                0.376316\n",
       "1199          0.378947                0.389474\n",
       "\n",
       "[882 rows x 2 columns]"
      ]
     },
     "execution_count": 10,
     "metadata": {},
     "output_type": "execute_result"
    }
   ],
   "source": [
    "plotted_data[[\"hamming_distance\", \"hamming_distance_pcdag\"]][plotted_data.hamming_distance != plotted_data.hamming_distance_pcdag]"
   ]
  },
  {
   "cell_type": "code",
   "execution_count": 107,
   "id": "fabulous-electron",
   "metadata": {},
   "outputs": [
    {
     "data": {
      "text/html": [
       "<div>\n",
       "<style scoped>\n",
       "    .dataframe tbody tr th:only-of-type {\n",
       "        vertical-align: middle;\n",
       "    }\n",
       "\n",
       "    .dataframe tbody tr th {\n",
       "        vertical-align: top;\n",
       "    }\n",
       "\n",
       "    .dataframe thead th {\n",
       "        text-align: right;\n",
       "    }\n",
       "</style>\n",
       "<table border=\"1\" class=\"dataframe\">\n",
       "  <thead>\n",
       "    <tr style=\"text-align: right;\">\n",
       "      <th></th>\n",
       "      <th>experiment_config/dataset</th>\n",
       "    </tr>\n",
       "  </thead>\n",
       "  <tbody>\n",
       "  </tbody>\n",
       "</table>\n",
       "</div>"
      ],
      "text/plain": [
       "Empty DataFrame\n",
       "Columns: [experiment_config/dataset]\n",
       "Index: []"
      ]
     },
     "metadata": {},
     "output_type": "display_data"
    }
   ],
   "source": [
    "edge_density = 0.6\n",
    "num_nodes = 5\n",
    "discrete_node_ratio = 0.4\n",
    "\n",
    "filtered_df = df[\n",
    "    (df[\"config/edge_density\"] == edge_density) &\n",
    "    (df[\"config/num_nodes\"] == num_nodes) &\n",
    "    (df[\"config/discrete_node_ratio\"] == discrete_node_ratio)\n",
    "]\n",
    "display(filtered_df.head()[[\"experiment_config/dataset\"]])\n",
    "network_data = df[[\"result/job_id\",  \"result/id\", \"experiment_config/dataset\", \"result/meta_results/sampling_factor\", \"gd_compare/hamming_distance\", \"config/edge_density\", \"config/discrete_node_ratio\", \"config/num_nodes\"]]"
   ]
  },
  {
   "cell_type": "code",
   "execution_count": 108,
   "id": "growing-sheet",
   "metadata": {},
   "outputs": [],
   "source": [
    "retry_strategy = Retry(\n",
    "    total=3,\n",
    "    status_forcelist=[429, 500, 502, 503, 504],\n",
    "    method_whitelist=[\"GET\", \"PUT\", \"DELETE\", \"OPTIONS\"],\n",
    "    backoff_factor=10\n",
    ")\n",
    "adapter = HTTPAdapter(max_retries=retry_strategy)\n",
    "http = requests.Session()\n",
    "http.mount(\"http://\", adapter)"
   ]
  },
  {
   "cell_type": "code",
   "execution_count": 109,
   "id": "wireless-white",
   "metadata": {},
   "outputs": [],
   "source": [
    "API_HOST = \"http://galileo.eaalab.hpi.uni-potsdam.de:5000\"\n",
    "#API_HOST = \"http://localhost:5000\"\n",
    "API_RESULT_GRAPH = lambda result_id : f\"{API_HOST}/api/result/{result_id}/export?format=GML\"\n",
    "API_GROUND_TRUTH_GRAPH = lambda dataset_id : f\"{API_HOST}/api/dataset/{dataset_id}/ground-truth?format=GML\"\n",
    "\n",
    "def get_est_graph(result_id: int, tmp_path=\"./est_graph.gml\"):\n",
    "    response_graph = http.get(API_RESULT_GRAPH(result_id))\n",
    "\n",
    "    if response_graph.status_code != 200:\n",
    "        error_msg = f\"API Request to {API_RESULT_GRAPH(result_id)} failed.\"\n",
    "        raise Exception(error_msg)\n",
    "\n",
    "    with open(tmp_path, 'wb') as f:\n",
    "        f.write(response_graph.content)\n",
    "        \n",
    "    return nx.read_gml(tmp_path)\n",
    "\n",
    "def get_gt_graph(dataset_id: int, tmp_path=\"./gt-download.gml\"):\n",
    "    response_graph = http.get(API_GROUND_TRUTH_GRAPH(dataset_id))\n",
    "\n",
    "    if response_graph.status_code != 200:\n",
    "        error_msg = f\"API Request to {API_GROUND_TRUTH_GRAPH(dataset_id)} failed.\"\n",
    "        logging.error(error_msg)\n",
    "        raise Exception(error_msg)\n",
    "        \n",
    "    with open(tmp_path, 'wb') as f:\n",
    "        f.write(response_graph.content)\n",
    "\n",
    "    return nx.read_gml(tmp_path)"
   ]
  },
  {
   "cell_type": "code",
   "execution_count": 110,
   "id": "intended-roberts",
   "metadata": {},
   "outputs": [
    {
     "data": {
      "application/vnd.jupyter.widget-view+json": {
       "model_id": "eeac9054a935422eae686768e0cec2cc",
       "version_major": 2,
       "version_minor": 0
      },
      "text/plain": [
       "interactive(children=(Dropdown(description='edge_density', options=(0.6,), value=0.6), Dropdown(description='n…"
      ]
     },
     "metadata": {},
     "output_type": "display_data"
    },
    {
     "data": {
      "text/plain": [
       "<function __main__.f(edge_density: float, num_nodes: int, discrete_node_ratio: float, sampling_factor: int)>"
      ]
     },
     "execution_count": 110,
     "metadata": {},
     "output_type": "execute_result"
    },
    {
     "data": {
      "image/png": "[encoded data removed]",
      "text/plain": [
       "<Figure size 1728x432 with 6 Axes>"
      ]
     },
     "metadata": {},
     "output_type": "display_data"
    }
   ],
   "source": [
    "from __future__ import print_function\n",
    "from ipywidgets import interact, interactive, fixed, interact_manual\n",
    "import ipywidgets as widgets\n",
    "import time\n",
    "import matplotlib\n",
    "import matplotlib.pyplot as plt\n",
    "import matplotlib.gridspec as gridspec\n",
    "\n",
    "\n",
    "def f(edge_density: float,\n",
    "      num_nodes: int,\n",
    "      discrete_node_ratio: float,\n",
    "      sampling_factor: int):\n",
    "    \n",
    "    filtered_df = df[\n",
    "        (df[\"config/edge_density\"] == edge_density) &\n",
    "        (df[\"config/num_nodes\"] == num_nodes) &\n",
    "        (df[\"config/discrete_node_ratio\"] == discrete_node_ratio) &\n",
    "        (df[\"result/meta_results/sampling_factor\"] == sampling_factor)\n",
    "    ]\n",
    "    filtered_df = filtered_df[[\"result/job_id\",  \"result/id\", \"experiment_config/dataset\", \"result/meta_results/sampling_factor\", \"gd_compare/hamming_distance\", \"config/edge_density\", \"config/discrete_node_ratio\", \"config/num_nodes\"]]\n",
    "    display(filtered_df)\n",
    "\n",
    "    dataset_id = filtered_df.iat[0, 2]\n",
    "    print(f\"dataset: {dataset_id}\")\n",
    "    gt_graph = get_gt_graph(dataset_id)\n",
    "    \n",
    "    plot_index = 161\n",
    "    plt.figure(figsize=(24, 6))\n",
    "    plt.subplot(plot_index)\n",
    "    nx.draw_shell(gt_graph, with_labels = True)\n",
    "    plt.title(\"Ground truth\")\n",
    "    #plt.show()\n",
    "    \n",
    "    current_plot_index = plot_index \n",
    "    #display(nx.draw_spring(gt_graph, with_labels = True))\n",
    "    for i, row in filtered_df.iterrows():\n",
    "        current_plot_index += 1\n",
    "        result_id = int(row[\"result/id\"])\n",
    "        est_graph = get_est_graph(result_id)\n",
    "        \n",
    "        #print(current_plot_index)\n",
    "        plt.subplot(current_plot_index)\n",
    "        nx.draw_shell(est_graph, with_labels = True)\n",
    "        plt.title(f\"Result id: {result_id}\")\n",
    "\n",
    "    plt.show()\n",
    "    #plt.figsize(15,15)\n",
    "    \n",
    "interact(f,\n",
    "    edge_density=network_data[\"config/edge_density\"].unique(),\n",
    "    sampling_factor=network_data[\"result/meta_results/sampling_factor\"].unique(),\n",
    "    num_nodes=network_data[\"config/num_nodes\"].unique(),\n",
    "    discrete_node_ratio=network_data[\"config/discrete_node_ratio\"].unique(),\n",
    ")"
   ]
  },
  {
   "cell_type": "code",
   "execution_count": 111,
   "id": "surrounded-greece",
   "metadata": {},
   "outputs": [
    {
     "ename": "ModuleNotFoundError",
     "evalue": "No module named 'src'",
     "output_type": "error",
     "traceback": [
      "\u001b[0;31m---------------------------------------------------------------------------\u001b[0m",
      "\u001b[0;31mModuleNotFoundError\u001b[0m                       Traceback (most recent call last)",
      "\u001b[0;32m<ipython-input-111-5062eb0dae50>\u001b[0m in \u001b[0;36m<module>\u001b[0;34m\u001b[0m\n\u001b[1;32m     15\u001b[0m \u001b[0;32mfrom\u001b[0m \u001b[0mbokeh\u001b[0m\u001b[0;34m.\u001b[0m\u001b[0mplotting\u001b[0m \u001b[0;32mimport\u001b[0m \u001b[0mfigure\u001b[0m\u001b[0;34m\u001b[0m\u001b[0;34m\u001b[0m\u001b[0m\n\u001b[1;32m     16\u001b[0m \u001b[0;34m\u001b[0m\u001b[0m\n\u001b[0;32m---> 17\u001b[0;31m \u001b[0;32mfrom\u001b[0m \u001b[0msrc\u001b[0m\u001b[0;34m.\u001b[0m\u001b[0mgraph\u001b[0m \u001b[0;32mimport\u001b[0m \u001b[0mGraph\u001b[0m\u001b[0;34m,\u001b[0m \u001b[0mGraphBuilder\u001b[0m\u001b[0;34m\u001b[0m\u001b[0;34m\u001b[0m\u001b[0m\n\u001b[0m\u001b[1;32m     18\u001b[0m \u001b[0;32mfrom\u001b[0m \u001b[0mscipy\u001b[0m\u001b[0;34m.\u001b[0m\u001b[0mstats\u001b[0m \u001b[0;32mimport\u001b[0m \u001b[0mnorm\u001b[0m\u001b[0;34m\u001b[0m\u001b[0;34m\u001b[0m\u001b[0m\n\u001b[1;32m     19\u001b[0m \u001b[0;32mimport\u001b[0m \u001b[0mholoviews\u001b[0m \u001b[0;32mas\u001b[0m \u001b[0mhv\u001b[0m\u001b[0;34m\u001b[0m\u001b[0;34m\u001b[0m\u001b[0m\n",
      "\u001b[0;31mModuleNotFoundError\u001b[0m: No module named 'src'"
     ]
    }
   ],
   "source": [
    "from bokeh.io import output_notebook, reset_output, show, output_file\n",
    "from bokeh.application import Application\n",
    "from bokeh.application.handlers import FunctionHandler\n",
    "\n",
    "from scipy.stats import norm\n",
    "import seaborn as sns\n",
    "from scipy.stats import pearsonr\n",
    "\n",
    "from bokeh.models import (BoxZoomTool, Circle, HoverTool,\n",
    "                          MultiLine, Plot, Range1d, ResetTool,)\n",
    "from bokeh.palettes import Spectral11\n",
    "from bokeh.plotting import from_networkx\n",
    "\n",
    "from bokeh.layouts import gridplot\n",
    "from bokeh.plotting import figure\n",
    "\n",
    "from src.graph import Graph, GraphBuilder\n",
    "from scipy.stats import norm\n",
    "import holoviews as hv\n",
    "from holoviews import opts\n",
    "reset_output()\n",
    "hv.extension('bokeh')\n",
    "output_notebook()"
   ]
  },
  {
   "cell_type": "code",
   "execution_count": null,
   "id": "ordered-gasoline",
   "metadata": {},
   "outputs": [],
   "source": [
    "API_DATASET_DOWNLOAD = lambda dataset_id : f'{API_HOST}/api/dataset/{dataset_id}/loadwithids'\n",
    "\n",
    "def get_dataset(dataset_id: int):\n",
    "    response_dataset = http.get(API_DATASET_DOWNLOAD(dataset_id))\n",
    "\n",
    "    if response_dataset.status_code != 200:\n",
    "        error_msg = f\"API Request to {API_DATASET_DOWNLOAD(dataset_id)} failed.\"\n",
    "        raise Exception(error_msg)\n",
    "        \n",
    "    return pd.read_csv(StringIO(response_dataset.text))\n",
    "\n",
    "def is_discrete(df: pd.DataFrame, column: int):\n",
    "    return df.dtypes[column] == \"int64\"\n",
    "\n",
    "def create_pair_plot(df, ground_truth):\n",
    "\n",
    "    # create three plots\n",
    "    plots = []\n",
    "    nodes = df.columns\n",
    "    node_max = nodes[-1]\n",
    "    node_min = nodes[0]\n",
    "\n",
    "    for row_index, row in enumerate(nodes):\n",
    "        for column_index, column in enumerate(nodes):\n",
    "\n",
    "            if column_index > row_index:\n",
    "                plots.append(None)\n",
    "                continue\n",
    "\n",
    "            x_axis_label = f\"Node {column}\" if row_index == len(nodes) - 1 else \"\"\n",
    "            y_axis_label = f\"Node {row}\" if column_index == 0 else \"\"\n",
    "\n",
    "            # create figure with data\n",
    "            s1 = figure(x_axis_label=x_axis_label, y_axis_label=y_axis_label)\n",
    "\n",
    "            # Check whether edge is present in groun truth\n",
    "            is_edge = (row, column) in ground_truth.edges or (column, row) in ground_truth.edges\n",
    "\n",
    "            s1.background_fill_color = \"green\" if is_edge else \"red\"\n",
    "            s1.background_fill_alpha = 0.05\n",
    "\n",
    "            x = df[column]\n",
    "            y = df[row]\n",
    "\n",
    "            if is_discrete(df, column):\n",
    "                if column != row:\n",
    "                    if is_discrete(df, row):\n",
    "                        data = pd.DataFrame(pd.crosstab(x, y).to_numpy()).reset_index().melt('index')\n",
    "                        data.columns = [f\"Node {column}\", f\"Node {row}\", \"value\"]\n",
    "                        data.value = data.value / np.sum(data.value)\n",
    "                        hm = hv.HeatMap(data)\n",
    "                        hm.opts(\n",
    "                            xticks=None,\n",
    "                            xlabel=x_axis_label,\n",
    "                            ylabel=y_axis_label,\n",
    "                            cmap='Greens' if is_edge else \"Reds\"\n",
    "                        )\n",
    "                        #hm = hm * hv.Labels(hm)\n",
    "                        s1 = hv.render(hm)\n",
    "                    else:\n",
    "                        for discrete_value in x.unique():\n",
    "                            mask = x == discrete_value\n",
    "\n",
    "                            sample_mean = np.mean(y[mask])\n",
    "                            sample_std = np.std(y[mask])\n",
    "                            dist = norm(sample_mean, sample_std)\n",
    "\n",
    "                            sorted_values = sorted(y[mask])\n",
    "                            probabilities = [dist.pdf(value) for value in sorted_values]\n",
    "\n",
    "                            s1.line(sorted_values, probabilities, line_color=Spectral11[discrete_value], line_width=1, alpha=0.7, legend_label=f\"{discrete_value}\")\n",
    "                            s1.legend.background_fill_alpha = 0.5\n",
    "                else:\n",
    "                    s1.background_fill_color = \"white\"\n",
    "\n",
    "                    counts = x.value_counts()\n",
    "                    s1.vbar(x=x.unique(), top=counts, width=0.9, fill_color=\"navy\", line_color=\"white\", alpha=0.5)\n",
    "\n",
    "                    #s1.xgrid.grid_line_color = None\n",
    "                    #s1.y_range.start = 0\n",
    "            else:\n",
    "                if column != row:\n",
    "                    # Create scatter plot\n",
    "                    s1.circle(x, y, size=1, alpha=0.8, color=\"#53777a\")\n",
    "\n",
    "                    # calculate slope + intercept\n",
    "                    par = np.polyfit(x, y, 1, full=True)\n",
    "                    slope=par[0][0]\n",
    "                    intercept=par[0][1]\n",
    "                    y_predicted = [slope*i + intercept  for i in x]\n",
    "                    s1.line(x,y_predicted,color='red',legend_label=f\"Corr: {round(pearsonr(x=x, y=y)[0], 4)}\")\n",
    "                    s1.legend.background_fill_alpha = 0.5\n",
    "                else:\n",
    "                    #diag plot --> histogram\n",
    "                    s1.background_fill_color = \"white\"\n",
    "\n",
    "                    node = row \n",
    "                    hist, edges = np.histogram(df[node], density=True, bins=50)\n",
    "\n",
    "                    s1.quad(top=hist, bottom=0, left=edges[:-1], right=edges[1:],\n",
    "                           fill_color=\"navy\", line_color=\"white\", alpha=0.5)\n",
    "\n",
    "            plots.append(s1)\n",
    "\n",
    "    # make a grid\n",
    "    grid = gridplot(plots, ncols=len(df.columns), plot_width=250, plot_height=250)\n",
    "\n",
    "    return grid"
   ]
  },
  {
   "cell_type": "code",
   "execution_count": null,
   "id": "detailed-minneapolis",
   "metadata": {},
   "outputs": [],
   "source": [
    "dataset_id = 22\n",
    "\n",
    "#df = get_dataset(dataset_id)\n",
    "#ground_truth = get_gt_graph(dataset_id)"
   ]
  },
  {
   "cell_type": "code",
   "execution_count": null,
   "id": "leading-holiday",
   "metadata": {},
   "outputs": [],
   "source": [
    "#grid = create_pair_plot(df, ground_truth)\n",
    "\n",
    "#show(grid)"
   ]
  },
  {
   "cell_type": "code",
   "execution_count": null,
   "id": "proud-baking",
   "metadata": {},
   "outputs": [],
   "source": []
  }
 ],
 "metadata": {
  "kernelspec": {
   "display_name": "Python 3",
   "language": "python",
   "name": "python3"
  },
  "language_info": {
   "codemirror_mode": {
    "name": "ipython",
    "version": 3
   },
   "file_extension": ".py",
   "mimetype": "text/x-python",
   "name": "python",
   "nbconvert_exporter": "python",
   "pygments_lexer": "ipython3",
   "version": "3.8.5"
  }
 },
 "nbformat": 4,
 "nbformat_minor": 5
}
