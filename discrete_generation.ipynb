{
 "cells": [
  {
   "cell_type": "code",
   "execution_count": 17,
   "metadata": {},
   "outputs": [],
   "source": [
    "import numpy as np\n",
    "import networkx as nx\n",
    "import matplotlib.pyplot as plt"
   ]
  },
  {
   "cell_type": "code",
   "execution_count": null,
   "metadata": {},
   "outputs": [],
   "source": []
  },
  {
   "cell_type": "code",
   "execution_count": 18,
   "metadata": {},
   "outputs": [],
   "source": [
    "graph = nx.DiGraph()\n",
    "graph.add_edges_from([(\"root\", \"a\"), (\"a\", \"b\"), (\"a\", \"e\"), (\"b\", \"c\"), (\"b\", \"d\"), (\"d\", \"e\")])"
   ]
  },
  {
   "cell_type": "code",
   "execution_count": 19,
   "metadata": {},
   "outputs": [
    {
     "data": {
      "text/plain": [
       "<networkx.classes.digraph.DiGraph at 0x7fa8bc9896d0>"
      ]
     },
     "execution_count": 19,
     "metadata": {},
     "output_type": "execute_result"
    }
   ],
   "source": [
    "graph"
   ]
  },
  {
   "cell_type": "code",
   "execution_count": 47,
   "metadata": {},
   "outputs": [],
   "source": [
    "def create_dag(num_nodes: int, edge_prob: float, seed=1):\n",
    "    graph = nx.gnp_random_graph(n=num_nodes, p=edge_prob, seed=seed, directed=True)\n",
    "    dag = nx.DiGraph([(u, v, {}) for (u, v) in graph.edges() if u < v])\n",
    "    return dag\n",
    "\n",
    "dag = create_dag(4, 0.6, 1)"
   ]
  },
  {
   "cell_type": "code",
   "execution_count": 122,
   "metadata": {},
   "outputs": [],
   "source": [
    "# Parameters\n",
    "graph = dag\n",
    "\n",
    "NUM_NODES = graph.number_of_nodes()\n",
    "MIN_DISCRETE_VALUES = 2\n",
    "MAX_DISCRETE_VALUES = 5\n",
    "\n",
    "sorted_graph = list(nx.topological_sort(graph))"
   ]
  },
  {
   "cell_type": "code",
   "execution_count": 123,
   "metadata": {},
   "outputs": [],
   "source": [
    "# Supporting arrays\n",
    "samples = np.empty(NUM_NODES).astype(int)\n",
    "num_discrete_values = np.empty(NUM_NODES).astype(int)\n",
    "matrices = np.empty(NUM_NODES).astype(object)\n",
    "sorted_graph = list(nx.topological_sort(graph))"
   ]
  },
  {
   "cell_type": "code",
   "execution_count": 124,
   "metadata": {},
   "outputs": [],
   "source": [
    "# generate number of discrete values per node\n",
    "for node in sorted_graph:\n",
    "    num_discrete_values[node] = np.random.randint(MIN_DISCRETE_VALUES, MAX_DISCRETE_VALUES)"
   ]
  },
  {
   "cell_type": "code",
   "execution_count": 125,
   "metadata": {},
   "outputs": [],
   "source": [
    "# create matrices for nodes\n",
    "for node in sorted_graph:\n",
    "    parents = list(graph.predecessors(node))\n",
    "    has_parents = len(parents) != 0\n",
    "\n",
    "    # Generate matrix for node\n",
    "    num_values_parents = num_discrete_values[parents]\n",
    "    num_distributions = num_values_parents.prod() if has_parents else 1\n",
    "    value_distribution = np.ones(num_discrete_values[node]) # create array with ones for uniformally distribution\n",
    "    \n",
    "    matrix = np.random.dirichlet(value_distribution, num_distributions)\n",
    "    matrix_shape = np.append(num_values_parents, num_discrete_values[node])\n",
    "    matrix = matrix.reshape(matrix_shape)\n",
    "    matrices[node] = matrix"
   ]
  },
  {
   "cell_type": "code",
   "execution_count": 126,
   "metadata": {},
   "outputs": [
    {
     "name": "stdout",
     "output_type": "stream",
     "text": [
      "--------------------------------\n",
      "[0.41590107 0.013172   0.43995658 0.13097035]\n",
      "\n",
      "\n",
      "Chosen []\n",
      "[0.41590107 0.013172   0.43995658 0.13097035]\n",
      "\n",
      "\n",
      "--------------------------------\n",
      "[[0.79044317 0.20955683]\n",
      " [0.14298881 0.85701119]\n",
      " [0.14217937 0.85782063]\n",
      " [0.74125635 0.25874365]]\n",
      "\n",
      "\n",
      "Chosen [0]\n",
      "[0.79044317 0.20955683]\n",
      "\n",
      "\n",
      "--------------------------------\n",
      "[[0.54303785 0.13909823 0.00760988 0.31025404]\n",
      " [0.08070035 0.46536676 0.10079364 0.35313925]]\n",
      "\n",
      "\n",
      "Chosen [1]\n",
      "[0.08070035 0.46536676 0.10079364 0.35313925]\n",
      "\n",
      "\n",
      "--------------------------------\n",
      "[[[0.28350524 0.48329426 0.2332005 ]\n",
      "  [0.65842626 0.0521924  0.28938134]\n",
      "  [0.27989173 0.55738999 0.16271828]\n",
      "  [0.58648793 0.2405164  0.17299568]]\n",
      "\n",
      " [[0.73642238 0.08569676 0.17788087]\n",
      "  [0.3857199  0.33603137 0.27824873]\n",
      "  [0.60593088 0.17219148 0.22187764]\n",
      "  [0.10490914 0.69957112 0.19551973]]]\n",
      "\n",
      "\n",
      "Chosen [1 1]\n",
      "[0.3857199  0.33603137 0.27824873]\n",
      "\n",
      "\n"
     ]
    }
   ],
   "source": [
    "# Data sampling\n",
    "\n",
    "for node in sorted_graph:\n",
    "    parents = list(graph.predecessors(node))\n",
    "    has_parents = len(parents) != 0\n",
    "    \n",
    "    results_of_parents = samples[parents]\n",
    "    matrix = matrices[node]\n",
    "    \n",
    "    # Get prob vector by list of indexes\n",
    "    prob_vector = matrix\n",
    "    for index in results_of_parents:\n",
    "        prob_vector = prob_vector[index]\n",
    "        \n",
    "    \n",
    "    #prob_vector = [matrix[results_of_parents]] if has_parents else matrix\n",
    "    print(f\"--------------------------------\")\n",
    "    print(f\"{matrix}\\n\\n\")\n",
    "    print(f\"Chosen {results_of_parents}\")\n",
    "    print(f\"{prob_vector}\\n\\n\")\n",
    "    \n",
    "    sample = np.random.choice(num_discrete_values[node], 1, p=prob_vector)\n",
    "    samples[node] = sample\n",
    "    "
   ]
  },
  {
   "cell_type": "code",
   "execution_count": 127,
   "metadata": {},
   "outputs": [
    {
     "name": "stdout",
     "output_type": "stream",
     "text": [
      "Number nodes: 4\n",
      "\n",
      "-------------------------\n",
      "\n",
      "Node: 0\n",
      "Sample: \n",
      "\n",
      "0\n",
      "\n",
      "Number parents: 0\n",
      "Parents number of possible discrete values: [] \n",
      "Sample: 0\n",
      "Number of possible discrete values: 4\n",
      "Matrix:\n",
      "\n",
      "[0.41590107 0.013172   0.43995658 0.13097035]\n",
      "\n",
      "\n",
      "-------------------------\n",
      "\n",
      "Node: 1\n",
      "Sample: \n",
      "\n",
      "1\n",
      "\n",
      "Number parents: 1\n",
      "Parents number of possible discrete values: [4] \n",
      "Sample: 1\n",
      "Number of possible discrete values: 2\n",
      "Matrix:\n",
      "\n",
      "[[0.79044317 0.20955683]\n",
      " [0.14298881 0.85701119]\n",
      " [0.14217937 0.85782063]\n",
      " [0.74125635 0.25874365]]\n",
      "\n",
      "\n",
      "-------------------------\n",
      "\n",
      "Node: 2\n",
      "Sample: \n",
      "\n",
      "1\n",
      "\n",
      "Number parents: 1\n",
      "Parents number of possible discrete values: [2] \n",
      "Sample: 1\n",
      "Number of possible discrete values: 4\n",
      "Matrix:\n",
      "\n",
      "[[0.54303785 0.13909823 0.00760988 0.31025404]\n",
      " [0.08070035 0.46536676 0.10079364 0.35313925]]\n",
      "\n",
      "\n",
      "-------------------------\n",
      "\n",
      "Node: 3\n",
      "Sample: \n",
      "\n",
      "0\n",
      "\n",
      "Number parents: 2\n",
      "Parents number of possible discrete values: [2 4] \n",
      "Sample: 0\n",
      "Number of possible discrete values: 3\n",
      "Matrix:\n",
      "\n",
      "[[[0.28350524 0.48329426 0.2332005 ]\n",
      "  [0.65842626 0.0521924  0.28938134]\n",
      "  [0.27989173 0.55738999 0.16271828]\n",
      "  [0.58648793 0.2405164  0.17299568]]\n",
      "\n",
      " [[0.73642238 0.08569676 0.17788087]\n",
      "  [0.3857199  0.33603137 0.27824873]\n",
      "  [0.60593088 0.17219148 0.22187764]\n",
      "  [0.10490914 0.69957112 0.19551973]]]\n",
      "\n"
     ]
    }
   ],
   "source": [
    "print(f\"Number nodes: {NUM_NODES}\")\n",
    "for node in list(nx.topological_sort(graph)):\n",
    "    print()\n",
    "    print(\"-------------------------\")\n",
    "    print()\n",
    "    print(f\"Node: {node}\")\n",
    "    print(f\"Sample: \")\n",
    "    print()\n",
    "    print(f\"{samples[node]}\")\n",
    "    print()\n",
    "    print(f\"Number parents: {len(list(graph.predecessors(node)))}\" )\n",
    "    print(f\"Parents number of possible discrete values: {num_discrete_values[list(graph.predecessors(node))]} \")\n",
    "    print(f\"Sample: {samples[node]}\")\n",
    "    print(f\"Number of possible discrete values: {num_discrete_values[node]}\" )\n",
    "    #print(f\"Matrix shape: {matrices[node].shape}\")\n",
    "    print(f\"Matrix:\")\n",
    "    print()\n",
    "    print(matrices[node])\n",
    "    print()"
   ]
  },
  {
   "cell_type": "code",
   "execution_count": 128,
   "metadata": {},
   "outputs": [],
   "source": [
    "value_distribution = np.ones(3)\n",
    "s = np.random.dirichlet(value_distribution, 3 * 5)\n",
    "s = s.reshape((3,5,3))\n",
    "s\n",
    "\n",
    "\n",
    "parents = list(graph.predecessors(node))"
   ]
  },
  {
   "cell_type": "code",
   "execution_count": 129,
   "metadata": {},
   "outputs": [
    {
     "data": {
      "text/plain": [
       "array([[0.33336235, 0.33335647, 0.3332597 , 0.33343525, 0.33403599,\n",
       "        0.33329866, 0.33322871, 0.33308961, 0.33376739, 0.33378719,\n",
       "        0.33375394, 0.33311812, 0.33114226, 0.33235715, 0.33531783,\n",
       "        0.33361963, 0.33413947, 0.33248932, 0.33423796, 0.33379393],\n",
       "       [0.33219724, 0.3334011 , 0.33186585, 0.33296851, 0.33398097,\n",
       "        0.33395754, 0.33383263, 0.33491247, 0.33365363, 0.3320627 ,\n",
       "        0.33289968, 0.33447494, 0.33268459, 0.33441131, 0.33320251,\n",
       "        0.33335982, 0.33337825, 0.33397369, 0.3323723 , 0.3326438 ],\n",
       "       [0.33444042, 0.33324243, 0.33487446, 0.33359624, 0.33198304,\n",
       "        0.3327438 , 0.33293866, 0.33199792, 0.33257898, 0.33415011,\n",
       "        0.33334638, 0.33240694, 0.33617316, 0.33323155, 0.33147966,\n",
       "        0.33302055, 0.33248228, 0.33353699, 0.33338974, 0.33356227]])"
      ]
     },
     "execution_count": 129,
     "metadata": {},
     "output_type": "execute_result"
    },
    {
     "data": {
      "image/png": "[encoded data removed]",
      "text/plain": [
       "<Figure size 432x288 with 1 Axes>"
      ]
     },
     "metadata": {
      "needs_background": "light"
     },
     "output_type": "display_data"
    }
   ],
   "source": [
    "#np.random.dirichlet((5, 1, 1), 20)\n",
    "\n",
    "n = 20\n",
    "beta = 1\n",
    "\n",
    "s = np.random.dirichlet(np.array([100000, 100000, 100000]) * beta, n).transpose()\n",
    "plt.barh(range(n), s[0])\n",
    "plt.barh(range(n), s[1], left=s[0], color='g')\n",
    "plt.barh(range(n), s[2], left=s[0]+s[1], color='r')\n",
    "\n",
    "plt.title(\"Dirichlet samples\")\n",
    "\n",
    "s"
   ]
  },
  {
   "cell_type": "code",
   "execution_count": 250,
   "metadata": {},
   "outputs": [
    {
     "name": "stdout",
     "output_type": "stream",
     "text": [
      "[3 2 2]\n"
     ]
    }
   ],
   "source": [
    " print(np.random.choice(5, 3, p=[0.1, 0, 0.3, 0.6, 0]))"
   ]
  },
  {
   "cell_type": "code",
   "execution_count": 103,
   "metadata": {},
   "outputs": [
    {
     "data": {
      "text/plain": [
       "[1,\n",
       " 1,\n",
       " 1,\n",
       " 1,\n",
       " 1,\n",
       " 1,\n",
       " 1,\n",
       " 1,\n",
       " 1,\n",
       " 1,\n",
       " 1,\n",
       " 1,\n",
       " 1,\n",
       " 1,\n",
       " 1,\n",
       " 1,\n",
       " 1,\n",
       " 1,\n",
       " 1,\n",
       " 1,\n",
       " 1,\n",
       " 1,\n",
       " 1,\n",
       " 1,\n",
       " 1,\n",
       " 1,\n",
       " 1,\n",
       " 1,\n",
       " 1,\n",
       " 1]"
      ]
     },
     "execution_count": 103,
     "metadata": {},
     "output_type": "execute_result"
    }
   ],
   "source": [
    "[1, 1, 1] * beta"
   ]
  },
  {
   "cell_type": "code",
   "execution_count": 76,
   "metadata": {},
   "outputs": [
    {
     "data": {
      "text/plain": [
       "array([[0.35525811, 0.37990413, 0.26483775]])"
      ]
     },
     "execution_count": 76,
     "metadata": {},
     "output_type": "execute_result"
    }
   ],
   "source": []
  },
  {
   "cell_type": "code",
   "execution_count": null,
   "metadata": {},
   "outputs": [],
   "source": []
  }
 ],
 "metadata": {
  "kernelspec": {
   "display_name": "Python 3",
   "language": "python",
   "name": "python3"
  },
  "language_info": {
   "codemirror_mode": {
    "name": "ipython",
    "version": 3
   },
   "file_extension": ".py",
   "mimetype": "text/x-python",
   "name": "python",
   "nbconvert_exporter": "python",
   "pygments_lexer": "ipython3",
   "version": "3.8.5"
  }
 },
 "nbformat": 4,
 "nbformat_minor": 4
}
