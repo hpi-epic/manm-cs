{
 "cells": [
  {
   "cell_type": "code",
   "execution_count": 186,
   "id": "structured-active",
   "metadata": {},
   "outputs": [],
   "source": [
    "import pandas as pd\n",
    "from bokeh.io import output_file, show, output_notebook, reset_output\n",
    "from bokeh.plotting import figure\n",
    "\n",
    "import networkx as nx\n",
    "from bokeh.models import (BoxZoomTool, Circle, HoverTool,\n",
    "                          MultiLine, Plot, Range1d, ResetTool,)\n",
    "from bokeh.palettes import Spectral4\n",
    "from bokeh.plotting import from_networkx\n",
    "from bokeh.layouts import gridplot\n",
    "from scipy.stats import chi2_contingency"
   ]
  },
  {
   "cell_type": "code",
   "execution_count": 187,
   "id": "liable-weather",
   "metadata": {},
   "outputs": [
    {
     "data": {
      "text/html": [
       "\n",
       "    <div class=\"bk-root\">\n",
       "        <a href=\"https://bokeh.org\" target=\"_blank\" class=\"bk-logo bk-logo-small bk-logo-notebook\"></a>\n",
       "        <span id=\"3527\">Loading BokehJS ...</span>\n",
       "    </div>"
      ]
     },
     "metadata": {},
     "output_type": "display_data"
    },
    {
     "data": {
      "application/javascript": [
       "\n",
       "(function(root) {\n",
       "  function now() {\n",
       "    return new Date();\n",
       "  }\n",
       "\n",
       "  var force = true;\n",
       "\n",
       "  if (typeof root._bokeh_onload_callbacks === \"undefined\" || force === true) {\n",
       "    root._bokeh_onload_callbacks = [];\n",
       "    root._bokeh_is_loading = undefined;\n",
       "  }\n",
       "\n",
       "  var JS_MIME_TYPE = 'application/javascript';\n",
       "  var HTML_MIME_TYPE = 'text/html';\n",
       "  var EXEC_MIME_TYPE = 'application/vnd.bokehjs_exec.v0+json';\n",
       "  var CLASS_NAME = 'output_bokeh rendered_html';\n",
       "\n",
       "  /**\n",
       "   * Render data to the DOM node\n",
       "   */\n",
       "  function render(props, node) {\n",
       "    var script = document.createElement(\"script\");\n",
       "    node.appendChild(script);\n",
       "  }\n",
       "\n",
       "  /**\n",
       "   * Handle when an output is cleared or removed\n",
       "   */\n",
       "  function handleClearOutput(event, handle) {\n",
       "    var cell = handle.cell;\n",
       "\n",
       "    var id = cell.output_area._bokeh_element_id;\n",
       "    var server_id = cell.output_area._bokeh_server_id;\n",
       "    // Clean up Bokeh references\n",
       "    if (id != null && id in Bokeh.index) {\n",
       "      Bokeh.index[id].model.document.clear();\n",
       "      delete Bokeh.index[id];\n",
       "    }\n",
       "\n",
       "    if (server_id !== undefined) {\n",
       "      // Clean up Bokeh references\n",
       "      var cmd = \"from bokeh.io.state import curstate; print(curstate().uuid_to_server['\" + server_id + \"'].get_sessions()[0].document.roots[0]._id)\";\n",
       "      cell.notebook.kernel.execute(cmd, {\n",
       "        iopub: {\n",
       "          output: function(msg) {\n",
       "            var id = msg.content.text.trim();\n",
       "            if (id in Bokeh.index) {\n",
       "              Bokeh.index[id].model.document.clear();\n",
       "              delete Bokeh.index[id];\n",
       "            }\n",
       "          }\n",
       "        }\n",
       "      });\n",
       "      // Destroy server and session\n",
       "      var cmd = \"import bokeh.io.notebook as ion; ion.destroy_server('\" + server_id + \"')\";\n",
       "      cell.notebook.kernel.execute(cmd);\n",
       "    }\n",
       "  }\n",
       "\n",
       "  /**\n",
       "   * Handle when a new output is added\n",
       "   */\n",
       "  function handleAddOutput(event, handle) {\n",
       "    var output_area = handle.output_area;\n",
       "    var output = handle.output;\n",
       "\n",
       "    // limit handleAddOutput to display_data with EXEC_MIME_TYPE content only\n",
       "    if ((output.output_type != \"display_data\") || (!output.data.hasOwnProperty(EXEC_MIME_TYPE))) {\n",
       "      return\n",
       "    }\n",
       "\n",
       "    var toinsert = output_area.element.find(\".\" + CLASS_NAME.split(' ')[0]);\n",
       "\n",
       "    if (output.metadata[EXEC_MIME_TYPE][\"id\"] !== undefined) {\n",
       "      toinsert[toinsert.length - 1].firstChild.textContent = output.data[JS_MIME_TYPE];\n",
       "      // store reference to embed id on output_area\n",
       "      output_area._bokeh_element_id = output.metadata[EXEC_MIME_TYPE][\"id\"];\n",
       "    }\n",
       "    if (output.metadata[EXEC_MIME_TYPE][\"server_id\"] !== undefined) {\n",
       "      var bk_div = document.createElement(\"div\");\n",
       "      bk_div.innerHTML = output.data[HTML_MIME_TYPE];\n",
       "      var script_attrs = bk_div.children[0].attributes;\n",
       "      for (var i = 0; i < script_attrs.length; i++) {\n",
       "        toinsert[toinsert.length - 1].firstChild.setAttribute(script_attrs[i].name, script_attrs[i].value);\n",
       "        toinsert[toinsert.length - 1].firstChild.textContent = bk_div.children[0].textContent\n",
       "      }\n",
       "      // store reference to server id on output_area\n",
       "      output_area._bokeh_server_id = output.metadata[EXEC_MIME_TYPE][\"server_id\"];\n",
       "    }\n",
       "  }\n",
       "\n",
       "  function register_renderer(events, OutputArea) {\n",
       "\n",
       "    function append_mime(data, metadata, element) {\n",
       "      // create a DOM node to render to\n",
       "      var toinsert = this.create_output_subarea(\n",
       "        metadata,\n",
       "        CLASS_NAME,\n",
       "        EXEC_MIME_TYPE\n",
       "      );\n",
       "      this.keyboard_manager.register_events(toinsert);\n",
       "      // Render to node\n",
       "      var props = {data: data, metadata: metadata[EXEC_MIME_TYPE]};\n",
       "      render(props, toinsert[toinsert.length - 1]);\n",
       "      element.append(toinsert);\n",
       "      return toinsert\n",
       "    }\n",
       "\n",
       "    /* Handle when an output is cleared or removed */\n",
       "    events.on('clear_output.CodeCell', handleClearOutput);\n",
       "    events.on('delete.Cell', handleClearOutput);\n",
       "\n",
       "    /* Handle when a new output is added */\n",
       "    events.on('output_added.OutputArea', handleAddOutput);\n",
       "\n",
       "    /**\n",
       "     * Register the mime type and append_mime function with output_area\n",
       "     */\n",
       "    OutputArea.prototype.register_mime_type(EXEC_MIME_TYPE, append_mime, {\n",
       "      /* Is output safe? */\n",
       "      safe: true,\n",
       "      /* Index of renderer in `output_area.display_order` */\n",
       "      index: 0\n",
       "    });\n",
       "  }\n",
       "\n",
       "  // register the mime type if in Jupyter Notebook environment and previously unregistered\n",
       "  if (root.Jupyter !== undefined) {\n",
       "    var events = require('base/js/events');\n",
       "    var OutputArea = require('notebook/js/outputarea').OutputArea;\n",
       "\n",
       "    if (OutputArea.prototype.mime_types().indexOf(EXEC_MIME_TYPE) == -1) {\n",
       "      register_renderer(events, OutputArea);\n",
       "    }\n",
       "  }\n",
       "\n",
       "  \n",
       "  if (typeof (root._bokeh_timeout) === \"undefined\" || force === true) {\n",
       "    root._bokeh_timeout = Date.now() + 5000;\n",
       "    root._bokeh_failed_load = false;\n",
       "  }\n",
       "\n",
       "  var NB_LOAD_WARNING = {'data': {'text/html':\n",
       "     \"<div style='background-color: #fdd'>\\n\"+\n",
       "     \"<p>\\n\"+\n",
       "     \"BokehJS does not appear to have successfully loaded. If loading BokehJS from CDN, this \\n\"+\n",
       "     \"may be due to a slow or bad network connection. Possible fixes:\\n\"+\n",
       "     \"</p>\\n\"+\n",
       "     \"<ul>\\n\"+\n",
       "     \"<li>re-rerun `output_notebook()` to attempt to load from CDN again, or</li>\\n\"+\n",
       "     \"<li>use INLINE resources instead, as so:</li>\\n\"+\n",
       "     \"</ul>\\n\"+\n",
       "     \"<code>\\n\"+\n",
       "     \"from bokeh.resources import INLINE\\n\"+\n",
       "     \"output_notebook(resources=INLINE)\\n\"+\n",
       "     \"</code>\\n\"+\n",
       "     \"</div>\"}};\n",
       "\n",
       "  function display_loaded() {\n",
       "    var el = document.getElementById(\"3527\");\n",
       "    if (el != null) {\n",
       "      el.textContent = \"BokehJS is loading...\";\n",
       "    }\n",
       "    if (root.Bokeh !== undefined) {\n",
       "      if (el != null) {\n",
       "        el.textContent = \"BokehJS \" + root.Bokeh.version + \" successfully loaded.\";\n",
       "      }\n",
       "    } else if (Date.now() < root._bokeh_timeout) {\n",
       "      setTimeout(display_loaded, 100)\n",
       "    }\n",
       "  }\n",
       "\n",
       "\n",
       "  function run_callbacks() {\n",
       "    try {\n",
       "      root._bokeh_onload_callbacks.forEach(function(callback) {\n",
       "        if (callback != null)\n",
       "          callback();\n",
       "      });\n",
       "    } finally {\n",
       "      delete root._bokeh_onload_callbacks\n",
       "    }\n",
       "    console.debug(\"Bokeh: all callbacks have finished\");\n",
       "  }\n",
       "\n",
       "  function load_libs(css_urls, js_urls, callback) {\n",
       "    if (css_urls == null) css_urls = [];\n",
       "    if (js_urls == null) js_urls = [];\n",
       "\n",
       "    root._bokeh_onload_callbacks.push(callback);\n",
       "    if (root._bokeh_is_loading > 0) {\n",
       "      console.debug(\"Bokeh: BokehJS is being loaded, scheduling callback at\", now());\n",
       "      return null;\n",
       "    }\n",
       "    if (js_urls == null || js_urls.length === 0) {\n",
       "      run_callbacks();\n",
       "      return null;\n",
       "    }\n",
       "    console.debug(\"Bokeh: BokehJS not loaded, scheduling load and callback at\", now());\n",
       "    root._bokeh_is_loading = css_urls.length + js_urls.length;\n",
       "\n",
       "    function on_load() {\n",
       "      root._bokeh_is_loading--;\n",
       "      if (root._bokeh_is_loading === 0) {\n",
       "        console.debug(\"Bokeh: all BokehJS libraries/stylesheets loaded\");\n",
       "        run_callbacks()\n",
       "      }\n",
       "    }\n",
       "\n",
       "    function on_error() {\n",
       "      console.error(\"failed to load \" + url);\n",
       "    }\n",
       "\n",
       "    for (var i = 0; i < css_urls.length; i++) {\n",
       "      var url = css_urls[i];\n",
       "      const element = document.createElement(\"link\");\n",
       "      element.onload = on_load;\n",
       "      element.onerror = on_error;\n",
       "      element.rel = \"stylesheet\";\n",
       "      element.type = \"text/css\";\n",
       "      element.href = url;\n",
       "      console.debug(\"Bokeh: injecting link tag for BokehJS stylesheet: \", url);\n",
       "      document.body.appendChild(element);\n",
       "    }\n",
       "\n",
       "    const hashes = {\"https://cdn.bokeh.org/bokeh/release/bokeh-2.2.3.min.js\": \"T2yuo9Oe71Cz/I4X9Ac5+gpEa5a8PpJCDlqKYO0CfAuEszu1JrXLl8YugMqYe3sM\", \"https://cdn.bokeh.org/bokeh/release/bokeh-widgets-2.2.3.min.js\": \"98GDGJ0kOMCUMUePhksaQ/GYgB3+NH9h996V88sh3aOiUNX3N+fLXAtry6xctSZ6\", \"https://cdn.bokeh.org/bokeh/release/bokeh-tables-2.2.3.min.js\": \"89bArO+nlbP3sgakeHjCo1JYxYR5wufVgA3IbUvDY+K7w4zyxJqssu7wVnfeKCq8\"};\n",
       "\n",
       "    for (var i = 0; i < js_urls.length; i++) {\n",
       "      var url = js_urls[i];\n",
       "      var element = document.createElement('script');\n",
       "      element.onload = on_load;\n",
       "      element.onerror = on_error;\n",
       "      element.async = false;\n",
       "      element.src = url;\n",
       "      if (url in hashes) {\n",
       "        element.crossOrigin = \"anonymous\";\n",
       "        element.integrity = \"sha384-\" + hashes[url];\n",
       "      }\n",
       "      console.debug(\"Bokeh: injecting script tag for BokehJS library: \", url);\n",
       "      document.head.appendChild(element);\n",
       "    }\n",
       "  };\n",
       "\n",
       "  function inject_raw_css(css) {\n",
       "    const element = document.createElement(\"style\");\n",
       "    element.appendChild(document.createTextNode(css));\n",
       "    document.body.appendChild(element);\n",
       "  }\n",
       "\n",
       "  \n",
       "  var js_urls = [\"https://cdn.bokeh.org/bokeh/release/bokeh-2.2.3.min.js\", \"https://cdn.bokeh.org/bokeh/release/bokeh-widgets-2.2.3.min.js\", \"https://cdn.bokeh.org/bokeh/release/bokeh-tables-2.2.3.min.js\"];\n",
       "  var css_urls = [];\n",
       "  \n",
       "\n",
       "  var inline_js = [\n",
       "    function(Bokeh) {\n",
       "      Bokeh.set_log_level(\"info\");\n",
       "    },\n",
       "    function(Bokeh) {\n",
       "    \n",
       "    \n",
       "    }\n",
       "  ];\n",
       "\n",
       "  function run_inline_js() {\n",
       "    \n",
       "    if (root.Bokeh !== undefined || force === true) {\n",
       "      \n",
       "    for (var i = 0; i < inline_js.length; i++) {\n",
       "      inline_js[i].call(root, root.Bokeh);\n",
       "    }\n",
       "    if (force === true) {\n",
       "        display_loaded();\n",
       "      }} else if (Date.now() < root._bokeh_timeout) {\n",
       "      setTimeout(run_inline_js, 100);\n",
       "    } else if (!root._bokeh_failed_load) {\n",
       "      console.log(\"Bokeh: BokehJS failed to load within specified timeout.\");\n",
       "      root._bokeh_failed_load = true;\n",
       "    } else if (force !== true) {\n",
       "      var cell = $(document.getElementById(\"3527\")).parents('.cell').data().cell;\n",
       "      cell.output_area.append_execute_result(NB_LOAD_WARNING)\n",
       "    }\n",
       "\n",
       "  }\n",
       "\n",
       "  if (root._bokeh_is_loading === 0) {\n",
       "    console.debug(\"Bokeh: BokehJS loaded, going straight to plotting\");\n",
       "    run_inline_js();\n",
       "  } else {\n",
       "    load_libs(css_urls, js_urls, function() {\n",
       "      console.debug(\"Bokeh: BokehJS plotting callback run at\", now());\n",
       "      run_inline_js();\n",
       "    });\n",
       "  }\n",
       "}(window));"
      ],
      "application/vnd.bokehjs_load.v0+json": "\n(function(root) {\n  function now() {\n    return new Date();\n  }\n\n  var force = true;\n\n  if (typeof root._bokeh_onload_callbacks === \"undefined\" || force === true) {\n    root._bokeh_onload_callbacks = [];\n    root._bokeh_is_loading = undefined;\n  }\n\n  \n\n  \n  if (typeof (root._bokeh_timeout) === \"undefined\" || force === true) {\n    root._bokeh_timeout = Date.now() + 5000;\n    root._bokeh_failed_load = false;\n  }\n\n  var NB_LOAD_WARNING = {'data': {'text/html':\n     \"<div style='background-color: #fdd'>\\n\"+\n     \"<p>\\n\"+\n     \"BokehJS does not appear to have successfully loaded. If loading BokehJS from CDN, this \\n\"+\n     \"may be due to a slow or bad network connection. Possible fixes:\\n\"+\n     \"</p>\\n\"+\n     \"<ul>\\n\"+\n     \"<li>re-rerun `output_notebook()` to attempt to load from CDN again, or</li>\\n\"+\n     \"<li>use INLINE resources instead, as so:</li>\\n\"+\n     \"</ul>\\n\"+\n     \"<code>\\n\"+\n     \"from bokeh.resources import INLINE\\n\"+\n     \"output_notebook(resources=INLINE)\\n\"+\n     \"</code>\\n\"+\n     \"</div>\"}};\n\n  function display_loaded() {\n    var el = document.getElementById(\"3527\");\n    if (el != null) {\n      el.textContent = \"BokehJS is loading...\";\n    }\n    if (root.Bokeh !== undefined) {\n      if (el != null) {\n        el.textContent = \"BokehJS \" + root.Bokeh.version + \" successfully loaded.\";\n      }\n    } else if (Date.now() < root._bokeh_timeout) {\n      setTimeout(display_loaded, 100)\n    }\n  }\n\n\n  function run_callbacks() {\n    try {\n      root._bokeh_onload_callbacks.forEach(function(callback) {\n        if (callback != null)\n          callback();\n      });\n    } finally {\n      delete root._bokeh_onload_callbacks\n    }\n    console.debug(\"Bokeh: all callbacks have finished\");\n  }\n\n  function load_libs(css_urls, js_urls, callback) {\n    if (css_urls == null) css_urls = [];\n    if (js_urls == null) js_urls = [];\n\n    root._bokeh_onload_callbacks.push(callback);\n    if (root._bokeh_is_loading > 0) {\n      console.debug(\"Bokeh: BokehJS is being loaded, scheduling callback at\", now());\n      return null;\n    }\n    if (js_urls == null || js_urls.length === 0) {\n      run_callbacks();\n      return null;\n    }\n    console.debug(\"Bokeh: BokehJS not loaded, scheduling load and callback at\", now());\n    root._bokeh_is_loading = css_urls.length + js_urls.length;\n\n    function on_load() {\n      root._bokeh_is_loading--;\n      if (root._bokeh_is_loading === 0) {\n        console.debug(\"Bokeh: all BokehJS libraries/stylesheets loaded\");\n        run_callbacks()\n      }\n    }\n\n    function on_error() {\n      console.error(\"failed to load \" + url);\n    }\n\n    for (var i = 0; i < css_urls.length; i++) {\n      var url = css_urls[i];\n      const element = document.createElement(\"link\");\n      element.onload = on_load;\n      element.onerror = on_error;\n      element.rel = \"stylesheet\";\n      element.type = \"text/css\";\n      element.href = url;\n      console.debug(\"Bokeh: injecting link tag for BokehJS stylesheet: \", url);\n      document.body.appendChild(element);\n    }\n\n    const hashes = {\"https://cdn.bokeh.org/bokeh/release/bokeh-2.2.3.min.js\": \"T2yuo9Oe71Cz/I4X9Ac5+gpEa5a8PpJCDlqKYO0CfAuEszu1JrXLl8YugMqYe3sM\", \"https://cdn.bokeh.org/bokeh/release/bokeh-widgets-2.2.3.min.js\": \"98GDGJ0kOMCUMUePhksaQ/GYgB3+NH9h996V88sh3aOiUNX3N+fLXAtry6xctSZ6\", \"https://cdn.bokeh.org/bokeh/release/bokeh-tables-2.2.3.min.js\": \"89bArO+nlbP3sgakeHjCo1JYxYR5wufVgA3IbUvDY+K7w4zyxJqssu7wVnfeKCq8\"};\n\n    for (var i = 0; i < js_urls.length; i++) {\n      var url = js_urls[i];\n      var element = document.createElement('script');\n      element.onload = on_load;\n      element.onerror = on_error;\n      element.async = false;\n      element.src = url;\n      if (url in hashes) {\n        element.crossOrigin = \"anonymous\";\n        element.integrity = \"sha384-\" + hashes[url];\n      }\n      console.debug(\"Bokeh: injecting script tag for BokehJS library: \", url);\n      document.head.appendChild(element);\n    }\n  };\n\n  function inject_raw_css(css) {\n    const element = document.createElement(\"style\");\n    element.appendChild(document.createTextNode(css));\n    document.body.appendChild(element);\n  }\n\n  \n  var js_urls = [\"https://cdn.bokeh.org/bokeh/release/bokeh-2.2.3.min.js\", \"https://cdn.bokeh.org/bokeh/release/bokeh-widgets-2.2.3.min.js\", \"https://cdn.bokeh.org/bokeh/release/bokeh-tables-2.2.3.min.js\"];\n  var css_urls = [];\n  \n\n  var inline_js = [\n    function(Bokeh) {\n      Bokeh.set_log_level(\"info\");\n    },\n    function(Bokeh) {\n    \n    \n    }\n  ];\n\n  function run_inline_js() {\n    \n    if (root.Bokeh !== undefined || force === true) {\n      \n    for (var i = 0; i < inline_js.length; i++) {\n      inline_js[i].call(root, root.Bokeh);\n    }\n    if (force === true) {\n        display_loaded();\n      }} else if (Date.now() < root._bokeh_timeout) {\n      setTimeout(run_inline_js, 100);\n    } else if (!root._bokeh_failed_load) {\n      console.log(\"Bokeh: BokehJS failed to load within specified timeout.\");\n      root._bokeh_failed_load = true;\n    } else if (force !== true) {\n      var cell = $(document.getElementById(\"3527\")).parents('.cell').data().cell;\n      cell.output_area.append_execute_result(NB_LOAD_WARNING)\n    }\n\n  }\n\n  if (root._bokeh_is_loading === 0) {\n    console.debug(\"Bokeh: BokehJS loaded, going straight to plotting\");\n    run_inline_js();\n  } else {\n    load_libs(css_urls, js_urls, function() {\n      console.debug(\"Bokeh: BokehJS plotting callback run at\", now());\n      run_inline_js();\n    });\n  }\n}(window));"
     },
     "metadata": {},
     "output_type": "display_data"
    }
   ],
   "source": [
    "reset_output()\n",
    "output_notebook()"
   ]
  },
  {
   "cell_type": "code",
   "execution_count": 188,
   "id": "northern-stereo",
   "metadata": {},
   "outputs": [],
   "source": [
    "SAMPLES_CSV = \"./data/discrete/samples.csv\"\n",
    "GROUND_TRUTH_GML = \"./data/discrete/ground_truth.gml\""
   ]
  },
  {
   "cell_type": "code",
   "execution_count": 189,
   "id": "every-adams",
   "metadata": {},
   "outputs": [
    {
     "data": {
      "text/html": [
       "<div>\n",
       "<style scoped>\n",
       "    .dataframe tbody tr th:only-of-type {\n",
       "        vertical-align: middle;\n",
       "    }\n",
       "\n",
       "    .dataframe tbody tr th {\n",
       "        vertical-align: top;\n",
       "    }\n",
       "\n",
       "    .dataframe thead th {\n",
       "        text-align: right;\n",
       "    }\n",
       "</style>\n",
       "<table border=\"1\" class=\"dataframe\">\n",
       "  <thead>\n",
       "    <tr style=\"text-align: right;\">\n",
       "      <th></th>\n",
       "      <th>0</th>\n",
       "      <th>1</th>\n",
       "      <th>2</th>\n",
       "      <th>3</th>\n",
       "      <th>4</th>\n",
       "    </tr>\n",
       "  </thead>\n",
       "  <tbody>\n",
       "    <tr>\n",
       "      <th>0</th>\n",
       "      <td>0</td>\n",
       "      <td>0</td>\n",
       "      <td>0</td>\n",
       "      <td>0</td>\n",
       "      <td>0</td>\n",
       "    </tr>\n",
       "    <tr>\n",
       "      <th>1</th>\n",
       "      <td>0</td>\n",
       "      <td>0</td>\n",
       "      <td>0</td>\n",
       "      <td>0</td>\n",
       "      <td>0</td>\n",
       "    </tr>\n",
       "    <tr>\n",
       "      <th>2</th>\n",
       "      <td>0</td>\n",
       "      <td>0</td>\n",
       "      <td>0</td>\n",
       "      <td>0</td>\n",
       "      <td>1</td>\n",
       "    </tr>\n",
       "    <tr>\n",
       "      <th>3</th>\n",
       "      <td>0</td>\n",
       "      <td>0</td>\n",
       "      <td>0</td>\n",
       "      <td>0</td>\n",
       "      <td>0</td>\n",
       "    </tr>\n",
       "    <tr>\n",
       "      <th>4</th>\n",
       "      <td>0</td>\n",
       "      <td>0</td>\n",
       "      <td>0</td>\n",
       "      <td>0</td>\n",
       "      <td>0</td>\n",
       "    </tr>\n",
       "  </tbody>\n",
       "</table>\n",
       "</div>"
      ],
      "text/plain": [
       "   0  1  2  3  4\n",
       "0  0  0  0  0  0\n",
       "1  0  0  0  0  0\n",
       "2  0  0  0  0  1\n",
       "3  0  0  0  0  0\n",
       "4  0  0  0  0  0"
      ]
     },
     "execution_count": 189,
     "metadata": {},
     "output_type": "execute_result"
    }
   ],
   "source": [
    "df = pd.read_csv(SAMPLES_CSV)\n",
    "df = df.reindex(sorted(df.columns), axis=1)\n",
    "df.head()"
   ]
  },
  {
   "cell_type": "code",
   "execution_count": 190,
   "id": "million-cement",
   "metadata": {},
   "outputs": [
    {
     "data": {
      "text/html": [
       "\n",
       "\n",
       "\n",
       "\n",
       "\n",
       "\n",
       "  <div class=\"bk-root\" id=\"554ad251-2cef-479f-ad7e-f437d879016b\" data-root-id=\"3530\"></div>\n"
      ]
     },
     "metadata": {},
     "output_type": "display_data"
    },
    {
     "data": {
      "application/javascript": [
       "(function(root) {\n",
       "  function embed_document(root) {\n",
       "    \n",
       "  var docs_json = {\"44a7b56d-67a9-4d12-9442-9c7420290017\":{\"roots\":{\"references\":[{\"attributes\":{\"plot_height\":400,\"plot_width\":400,\"renderers\":[{\"id\":\"3540\"}],\"title\":{\"id\":\"3533\"},\"toolbar\":{\"id\":\"3537\"},\"x_range\":{\"id\":\"3528\"},\"x_scale\":{\"id\":\"3557\"},\"y_range\":{\"id\":\"3529\"},\"y_scale\":{\"id\":\"3558\"}},\"id\":\"3530\",\"type\":\"Plot\"},{\"attributes\":{\"data_source\":{\"id\":\"3542\"},\"glyph\":{\"id\":\"3550\"},\"hover_glyph\":null,\"muted_glyph\":null,\"view\":{\"id\":\"3544\"}},\"id\":\"3543\",\"type\":\"GlyphRenderer\"},{\"attributes\":{\"bottom_units\":\"screen\",\"fill_alpha\":0.5,\"fill_color\":\"lightgrey\",\"left_units\":\"screen\",\"level\":\"overlay\",\"line_alpha\":1.0,\"line_color\":\"black\",\"line_dash\":[4,4],\"line_width\":2,\"right_units\":\"screen\",\"top_units\":\"screen\"},\"id\":\"3569\",\"type\":\"BoxAnnotation\"},{\"attributes\":{\"data_source\":{\"id\":\"3546\"},\"glyph\":{\"id\":\"3545\"},\"hover_glyph\":null,\"muted_glyph\":null,\"view\":{\"id\":\"3548\"}},\"id\":\"3547\",\"type\":\"GlyphRenderer\"},{\"attributes\":{\"data\":{\"end\":[\"3\",\"4\",\"2\",\"4\",\"4\",\"4\"],\"start\":[\"0\",\"0\",\"1\",\"1\",\"2\",\"3\"]},\"selected\":{\"id\":\"3572\"},\"selection_policy\":{\"id\":\"3573\"}},\"id\":\"3546\",\"type\":\"ColumnDataSource\"},{\"attributes\":{\"fill_color\":{\"value\":\"#2b83ba\"},\"size\":{\"units\":\"screen\",\"value\":15}},\"id\":\"3550\",\"type\":\"Circle\"},{\"attributes\":{\"source\":{\"id\":\"3546\"}},\"id\":\"3548\",\"type\":\"CDSView\"},{\"attributes\":{\"overlay\":{\"id\":\"3569\"}},\"id\":\"3535\",\"type\":\"BoxZoomTool\"},{\"attributes\":{\"end\":1.1,\"start\":-1.1},\"id\":\"3528\",\"type\":\"Range1d\"},{\"attributes\":{},\"id\":\"3536\",\"type\":\"ResetTool\"},{\"attributes\":{\"source\":{\"id\":\"3542\"}},\"id\":\"3544\",\"type\":\"CDSView\"},{\"attributes\":{},\"id\":\"3557\",\"type\":\"LinearScale\"},{\"attributes\":{\"callback\":null,\"tooltips\":[[\"index\",\"@index\"],[\"club\",\"@club\"]]},\"id\":\"3534\",\"type\":\"HoverTool\"},{\"attributes\":{},\"id\":\"3558\",\"type\":\"LinearScale\"},{\"attributes\":{},\"id\":\"3570\",\"type\":\"Selection\"},{\"attributes\":{},\"id\":\"3571\",\"type\":\"UnionRenderers\"},{\"attributes\":{\"end\":1.1,\"start\":-1.1},\"id\":\"3529\",\"type\":\"Range1d\"},{\"attributes\":{},\"id\":\"3572\",\"type\":\"Selection\"},{\"attributes\":{},\"id\":\"3568\",\"type\":\"NodesOnly\"},{\"attributes\":{},\"id\":\"3573\",\"type\":\"UnionRenderers\"},{\"attributes\":{\"edge_renderer\":{\"id\":\"3547\"},\"inspection_policy\":{\"id\":\"3568\"},\"layout_provider\":{\"id\":\"3549\"},\"node_renderer\":{\"id\":\"3543\"},\"selection_policy\":{\"id\":\"3567\"}},\"id\":\"3540\",\"type\":\"GraphRenderer\"},{\"attributes\":{},\"id\":\"3567\",\"type\":\"NodesOnly\"},{\"attributes\":{\"data\":{\"index\":[\"0\",\"1\",\"2\",\"3\",\"4\"]},\"selected\":{\"id\":\"3570\"},\"selection_policy\":{\"id\":\"3571\"}},\"id\":\"3542\",\"type\":\"ColumnDataSource\"},{\"attributes\":{},\"id\":\"3545\",\"type\":\"MultiLine\"},{\"attributes\":{\"graph_layout\":{\"0\":[0.9177915730015311,0.13654679647058432],\"1\":[0.0059402665411184075,-0.8120200672800778],\"2\":[-0.7986518900163343,-0.6523192772920237],\"3\":[0.30525942389701977,1.0],\"4\":[-0.4303393734233358,0.3277925481015157]}},\"id\":\"3549\",\"type\":\"StaticLayoutProvider\"},{\"attributes\":{\"text\":\"Graph Interaction Demonstration\"},\"id\":\"3533\",\"type\":\"Title\"},{\"attributes\":{\"active_drag\":\"auto\",\"active_inspect\":\"auto\",\"active_multi\":null,\"active_scroll\":\"auto\",\"active_tap\":\"auto\",\"tools\":[{\"id\":\"3534\"},{\"id\":\"3535\"},{\"id\":\"3536\"}]},\"id\":\"3537\",\"type\":\"Toolbar\"}],\"root_ids\":[\"3530\"]},\"title\":\"Bokeh Application\",\"version\":\"2.2.3\"}};\n",
       "  var render_items = [{\"docid\":\"44a7b56d-67a9-4d12-9442-9c7420290017\",\"root_ids\":[\"3530\"],\"roots\":{\"3530\":\"554ad251-2cef-479f-ad7e-f437d879016b\"}}];\n",
       "  root.Bokeh.embed.embed_items_notebook(docs_json, render_items);\n",
       "\n",
       "  }\n",
       "  if (root.Bokeh !== undefined) {\n",
       "    embed_document(root);\n",
       "  } else {\n",
       "    var attempts = 0;\n",
       "    var timer = setInterval(function(root) {\n",
       "      if (root.Bokeh !== undefined) {\n",
       "        clearInterval(timer);\n",
       "        embed_document(root);\n",
       "      } else {\n",
       "        attempts++;\n",
       "        if (attempts > 100) {\n",
       "          clearInterval(timer);\n",
       "          console.log(\"Bokeh: ERROR: Unable to run BokehJS code because BokehJS library is missing\");\n",
       "        }\n",
       "      }\n",
       "    }, 10, root)\n",
       "  }\n",
       "})(window);"
      ],
      "application/vnd.bokehjs_exec.v0+json": ""
     },
     "metadata": {
      "application/vnd.bokehjs_exec.v0+json": {
       "id": "3530"
      }
     },
     "output_type": "display_data"
    }
   ],
   "source": [
    "# Prepare Data\n",
    "G = nx.read_gml(GROUND_TRUTH_GML)\n",
    "\n",
    "\n",
    "#for start_node, end_node, _ in G.edges(data=True):\n",
    "#    edge_color = SAME_CLUB_COLOR if G.nodes[start_node][\"club\"] == G.nodes[end_node][\"club\"] else DIFFERENT_CLUB_COLOR\n",
    "#    edge_attrs[(start_node, end_node)] = edge_color\n",
    "\n",
    "#nx.set_edge_attributes(G, edge_attrs, \"edge_color\")\n",
    "\n",
    "# Show with Bokeh\n",
    "plot = Plot(plot_width=400, plot_height=400,\n",
    "            x_range=Range1d(-1.1, 1.1), y_range=Range1d(-1.1, 1.1))\n",
    "plot.title.text = \"Graph Interaction Demonstration\"\n",
    "\n",
    "node_hover_tool = HoverTool(tooltips=[(\"index\", \"@index\"), (\"club\", \"@club\")])\n",
    "plot.add_tools(node_hover_tool, BoxZoomTool(), ResetTool())\n",
    "\n",
    "graph_renderer = from_networkx(G, nx.spring_layout, scale=1, center=(0, 0))\n",
    "\n",
    "graph_renderer.node_renderer.glyph = Circle(size=15, fill_color=Spectral4[0])\n",
    "#graph_renderer.edge_renderer.glyph = MultiLine(line_color=\"edge_color\", line_alpha=0.8, line_width=1)\n",
    "plot.renderers.append(graph_renderer)\n",
    "show(plot, handle_notebook=True)"
   ]
  },
  {
   "cell_type": "code",
   "execution_count": 191,
   "id": "addressed-mills",
   "metadata": {},
   "outputs": [
    {
     "data": {
      "text/html": [
       "\n",
       "\n",
       "\n",
       "\n",
       "\n",
       "\n",
       "  <div class=\"bk-root\" id=\"03de3e52-b050-4f6e-91e2-e2521f7b6f8c\" data-root-id=\"3857\"></div>\n"
      ]
     },
     "metadata": {},
     "output_type": "display_data"
    },
    {
     "data": {
      "application/javascript": [
       "(function(root) {\n",
       "  function embed_document(root) {\n",
       "    \n",
       "  var docs_json = {\"501f0cc1-fc37-4fb2-94a8-c3b03b2a445a\":{\"roots\":{\"references\":[{\"attributes\":{\"children\":[{\"id\":\"3856\"},{\"id\":\"3854\"}]},\"id\":\"3857\",\"type\":\"Column\"},{\"attributes\":{\"fill_alpha\":{\"value\":0.1},\"fill_color\":{\"value\":\"#1f77b4\"},\"line_alpha\":{\"value\":0.1},\"line_color\":{\"value\":\"#1f77b4\"},\"top\":{\"field\":\"top\"},\"width\":{\"value\":0.9},\"x\":{\"field\":\"x\"}},\"id\":\"3761\",\"type\":\"VBar\"},{\"attributes\":{\"data_source\":{\"id\":\"3759\"},\"glyph\":{\"id\":\"3760\"},\"hover_glyph\":null,\"muted_glyph\":null,\"nonselection_glyph\":{\"id\":\"3761\"},\"selection_glyph\":null,\"view\":{\"id\":\"3763\"}},\"id\":\"3762\",\"type\":\"GlyphRenderer\"},{\"attributes\":{},\"id\":\"3832\",\"type\":\"BasicTickFormatter\"},{\"attributes\":{\"fill_color\":{\"value\":\"#1f77b4\"},\"line_color\":{\"value\":\"#1f77b4\"},\"top\":{\"field\":\"top\"},\"width\":{\"value\":0.9},\"x\":{\"field\":\"x\"}},\"id\":\"3760\",\"type\":\"VBar\"},{\"attributes\":{},\"id\":\"3834\",\"type\":\"BasicTickFormatter\"},{\"attributes\":{},\"id\":\"3835\",\"type\":\"Selection\"},{\"attributes\":{},\"id\":\"3816\",\"type\":\"BasicTickFormatter\"},{\"attributes\":{},\"id\":\"3836\",\"type\":\"UnionRenderers\"},{\"attributes\":{},\"id\":\"3818\",\"type\":\"BasicTickFormatter\"},{\"attributes\":{},\"id\":\"3819\",\"type\":\"Selection\"},{\"attributes\":{},\"id\":\"3820\",\"type\":\"UnionRenderers\"},{\"attributes\":{},\"id\":\"3828\",\"type\":\"UnionRenderers\"},{\"attributes\":{\"data\":{\"top\":[808,192],\"x\":[0,1]},\"selected\":{\"id\":\"3835\"},\"selection_policy\":{\"id\":\"3836\"}},\"id\":\"3759\",\"type\":\"ColumnDataSource\"},{\"attributes\":{},\"id\":\"3840\",\"type\":\"BasicTickFormatter\"},{\"attributes\":{},\"id\":\"3842\",\"type\":\"BasicTickFormatter\"},{\"attributes\":{},\"id\":\"3843\",\"type\":\"Selection\"},{\"attributes\":{\"active_drag\":\"auto\",\"active_inspect\":\"auto\",\"active_multi\":null,\"active_scroll\":\"auto\",\"active_tap\":\"auto\"},\"id\":\"3758\",\"type\":\"Toolbar\"},{\"attributes\":{},\"id\":\"3844\",\"type\":\"UnionRenderers\"},{\"attributes\":{\"below\":[{\"id\":\"3750\"}],\"center\":[{\"id\":\"3753\"},{\"id\":\"3757\"}],\"left\":[{\"id\":\"3754\"}],\"plot_height\":250,\"plot_width\":250,\"renderers\":[{\"id\":\"3762\"}],\"title\":{\"id\":\"3740\"},\"toolbar\":{\"id\":\"3758\"},\"toolbar_location\":null,\"x_range\":{\"id\":\"3742\"},\"x_scale\":{\"id\":\"3746\"},\"y_range\":{\"id\":\"3744\"},\"y_scale\":{\"id\":\"3748\"}},\"id\":\"3739\",\"subtype\":\"Figure\",\"type\":\"Plot\"},{\"attributes\":{\"data\":{\"top\":[828,172],\"x\":[0,1]},\"selected\":{\"id\":\"3843\"},\"selection_policy\":{\"id\":\"3844\"}},\"id\":\"3784\",\"type\":\"ColumnDataSource\"},{\"attributes\":{},\"id\":\"3773\",\"type\":\"LinearScale\"},{\"attributes\":{\"axis\":{\"id\":\"3729\"},\"dimension\":1,\"ticker\":null},\"id\":\"3732\",\"type\":\"Grid\"},{\"attributes\":{\"axis\":{\"id\":\"3775\"},\"grid_line_color\":null,\"ticker\":null},\"id\":\"3778\",\"type\":\"Grid\"},{\"attributes\":{\"below\":[{\"id\":\"3775\"}],\"center\":[{\"id\":\"3778\"},{\"id\":\"3782\"}],\"left\":[{\"id\":\"3779\"}],\"plot_height\":250,\"plot_width\":250,\"renderers\":[{\"id\":\"3787\"}],\"title\":{\"id\":\"3765\"},\"toolbar\":{\"id\":\"3783\"},\"toolbar_location\":null,\"x_range\":{\"id\":\"3767\"},\"x_scale\":{\"id\":\"3771\"},\"y_range\":{\"id\":\"3769\"},\"y_scale\":{\"id\":\"3773\"}},\"id\":\"3764\",\"subtype\":\"Figure\",\"type\":\"Plot\"},{\"attributes\":{\"formatter\":{\"id\":\"3826\"},\"ticker\":{\"id\":\"3730\"}},\"id\":\"3729\",\"type\":\"LinearAxis\"},{\"attributes\":{},\"id\":\"3730\",\"type\":\"BasicTicker\"},{\"attributes\":{\"active_drag\":\"auto\",\"active_inspect\":\"auto\",\"active_multi\":null,\"active_scroll\":\"auto\",\"active_tap\":\"auto\"},\"id\":\"3733\",\"type\":\"Toolbar\"},{\"attributes\":{\"formatter\":{\"id\":\"3840\"},\"ticker\":{\"id\":\"3776\"}},\"id\":\"3775\",\"type\":\"LinearAxis\"},{\"attributes\":{\"fill_alpha\":{\"value\":0.1},\"fill_color\":{\"value\":\"#1f77b4\"},\"line_alpha\":{\"value\":0.1},\"line_color\":{\"value\":\"#1f77b4\"},\"top\":{\"field\":\"top\"},\"width\":{\"value\":0.9},\"x\":{\"field\":\"x\"}},\"id\":\"3786\",\"type\":\"VBar\"},{\"attributes\":{},\"id\":\"3827\",\"type\":\"Selection\"},{\"attributes\":{},\"id\":\"3771\",\"type\":\"LinearScale\"},{\"attributes\":{\"fill_alpha\":{\"value\":0.1},\"fill_color\":{\"value\":\"#1f77b4\"},\"line_alpha\":{\"value\":0.1},\"line_color\":{\"value\":\"#1f77b4\"},\"top\":{\"field\":\"top\"},\"width\":{\"value\":0.9},\"x\":{\"field\":\"x\"}},\"id\":\"3736\",\"type\":\"VBar\"},{\"attributes\":{\"fill_color\":{\"value\":\"#1f77b4\"},\"line_color\":{\"value\":\"#1f77b4\"},\"top\":{\"field\":\"top\"},\"width\":{\"value\":0.9},\"x\":{\"field\":\"x\"}},\"id\":\"3785\",\"type\":\"VBar\"},{\"attributes\":{\"text\":\"Node: 3\"},\"id\":\"3765\",\"type\":\"Title\"},{\"attributes\":{\"start\":0},\"id\":\"3769\",\"type\":\"DataRange1d\"},{\"attributes\":{},\"id\":\"3826\",\"type\":\"BasicTickFormatter\"},{\"attributes\":{\"active_drag\":\"auto\",\"active_inspect\":\"auto\",\"active_multi\":null,\"active_scroll\":\"auto\",\"active_tap\":\"auto\"},\"id\":\"3783\",\"type\":\"Toolbar\"},{\"attributes\":{\"start\":0},\"id\":\"3794\",\"type\":\"DataRange1d\"},{\"attributes\":{\"axis\":{\"id\":\"3779\"},\"dimension\":1,\"ticker\":null},\"id\":\"3782\",\"type\":\"Grid\"},{\"attributes\":{\"source\":{\"id\":\"3759\"}},\"id\":\"3763\",\"type\":\"CDSView\"},{\"attributes\":{},\"id\":\"3780\",\"type\":\"BasicTicker\"},{\"attributes\":{\"children\":[[{\"id\":\"3689\"},0,0],[{\"id\":\"3714\"},0,1],[{\"id\":\"3739\"},0,2],[{\"id\":\"3764\"},0,3],[{\"id\":\"3789\"},0,4]]},\"id\":\"3854\",\"type\":\"GridBox\"},{\"attributes\":{},\"id\":\"3824\",\"type\":\"BasicTickFormatter\"},{\"attributes\":{},\"id\":\"3776\",\"type\":\"BasicTicker\"},{\"attributes\":{},\"id\":\"3723\",\"type\":\"LinearScale\"},{\"attributes\":{\"formatter\":{\"id\":\"3842\"},\"ticker\":{\"id\":\"3780\"}},\"id\":\"3779\",\"type\":\"LinearAxis\"},{\"attributes\":{},\"id\":\"3692\",\"type\":\"Range1d\"},{\"attributes\":{\"data_source\":{\"id\":\"3734\"},\"glyph\":{\"id\":\"3735\"},\"hover_glyph\":null,\"muted_glyph\":null,\"nonselection_glyph\":{\"id\":\"3736\"},\"selection_glyph\":null,\"view\":{\"id\":\"3738\"}},\"id\":\"3737\",\"type\":\"GlyphRenderer\"},{\"attributes\":{\"data\":{\"top\":[890,110],\"x\":[0,1]},\"selected\":{\"id\":\"3819\"},\"selection_policy\":{\"id\":\"3820\"}},\"id\":\"3709\",\"type\":\"ColumnDataSource\"},{\"attributes\":{\"source\":{\"id\":\"3734\"}},\"id\":\"3738\",\"type\":\"CDSView\"},{\"attributes\":{\"axis\":{\"id\":\"3700\"},\"grid_line_color\":null,\"ticker\":null},\"id\":\"3703\",\"type\":\"Grid\"},{\"attributes\":{\"formatter\":{\"id\":\"3824\"},\"ticker\":{\"id\":\"3726\"}},\"id\":\"3725\",\"type\":\"LinearAxis\"},{\"attributes\":{},\"id\":\"3705\",\"type\":\"BasicTicker\"},{\"attributes\":{\"text\":\"Node: 0\"},\"id\":\"3690\",\"type\":\"Title\"},{\"attributes\":{},\"id\":\"3792\",\"type\":\"Range1d\"},{\"attributes\":{\"fill_color\":{\"value\":\"#1f77b4\"},\"line_color\":{\"value\":\"#1f77b4\"},\"top\":{\"field\":\"top\"},\"width\":{\"value\":0.9},\"x\":{\"field\":\"x\"}},\"id\":\"3710\",\"type\":\"VBar\"},{\"attributes\":{},\"id\":\"3701\",\"type\":\"BasicTicker\"},{\"attributes\":{\"start\":0},\"id\":\"3694\",\"type\":\"DataRange1d\"},{\"attributes\":{},\"id\":\"3696\",\"type\":\"LinearScale\"},{\"attributes\":{\"formatter\":{\"id\":\"3818\"},\"ticker\":{\"id\":\"3705\"}},\"id\":\"3704\",\"type\":\"LinearAxis\"},{\"attributes\":{\"fill_color\":{\"value\":\"#1f77b4\"},\"line_color\":{\"value\":\"#1f77b4\"},\"top\":{\"field\":\"top\"},\"width\":{\"value\":0.9},\"x\":{\"field\":\"x\"}},\"id\":\"3810\",\"type\":\"VBar\"},{\"attributes\":{\"axis\":{\"id\":\"3800\"},\"grid_line_color\":null,\"ticker\":null},\"id\":\"3803\",\"type\":\"Grid\"},{\"attributes\":{\"below\":[{\"id\":\"3700\"}],\"center\":[{\"id\":\"3703\"},{\"id\":\"3707\"}],\"left\":[{\"id\":\"3704\"}],\"plot_height\":250,\"plot_width\":250,\"renderers\":[{\"id\":\"3712\"}],\"title\":{\"id\":\"3690\"},\"toolbar\":{\"id\":\"3708\"},\"toolbar_location\":null,\"x_range\":{\"id\":\"3692\"},\"x_scale\":{\"id\":\"3696\"},\"y_range\":{\"id\":\"3694\"},\"y_scale\":{\"id\":\"3698\"}},\"id\":\"3689\",\"subtype\":\"Figure\",\"type\":\"Plot\"},{\"attributes\":{\"axis\":{\"id\":\"3754\"},\"dimension\":1,\"ticker\":null},\"id\":\"3757\",\"type\":\"Grid\"},{\"attributes\":{\"data_source\":{\"id\":\"3784\"},\"glyph\":{\"id\":\"3785\"},\"hover_glyph\":null,\"muted_glyph\":null,\"nonselection_glyph\":{\"id\":\"3786\"},\"selection_glyph\":null,\"view\":{\"id\":\"3788\"}},\"id\":\"3787\",\"type\":\"GlyphRenderer\"},{\"attributes\":{\"formatter\":{\"id\":\"3816\"},\"ticker\":{\"id\":\"3701\"}},\"id\":\"3700\",\"type\":\"LinearAxis\"},{\"attributes\":{\"source\":{\"id\":\"3784\"}},\"id\":\"3788\",\"type\":\"CDSView\"},{\"attributes\":{},\"id\":\"3698\",\"type\":\"LinearScale\"},{\"attributes\":{},\"id\":\"3805\",\"type\":\"BasicTicker\"},{\"attributes\":{\"text\":\"Node: 4\"},\"id\":\"3790\",\"type\":\"Title\"},{\"attributes\":{},\"id\":\"3801\",\"type\":\"BasicTicker\"},{\"attributes\":{\"data\":{\"top\":[781,219],\"x\":[0,1]},\"selected\":{\"id\":\"3851\"},\"selection_policy\":{\"id\":\"3852\"}},\"id\":\"3809\",\"type\":\"ColumnDataSource\"},{\"attributes\":{\"axis\":{\"id\":\"3704\"},\"dimension\":1,\"ticker\":null},\"id\":\"3707\",\"type\":\"Grid\"},{\"attributes\":{},\"id\":\"3796\",\"type\":\"LinearScale\"},{\"attributes\":{},\"id\":\"3848\",\"type\":\"BasicTickFormatter\"},{\"attributes\":{\"active_drag\":\"auto\",\"active_inspect\":\"auto\",\"active_multi\":null,\"active_scroll\":\"auto\",\"active_tap\":\"auto\"},\"id\":\"3708\",\"type\":\"Toolbar\"},{\"attributes\":{\"formatter\":{\"id\":\"3850\"},\"ticker\":{\"id\":\"3805\"}},\"id\":\"3804\",\"type\":\"LinearAxis\"},{\"attributes\":{\"toolbars\":[{\"id\":\"3708\"},{\"id\":\"3733\"},{\"id\":\"3758\"},{\"id\":\"3783\"},{\"id\":\"3808\"}]},\"id\":\"3855\",\"type\":\"ProxyToolbar\"},{\"attributes\":{},\"id\":\"3751\",\"type\":\"BasicTicker\"},{\"attributes\":{\"below\":[{\"id\":\"3800\"}],\"center\":[{\"id\":\"3803\"},{\"id\":\"3807\"}],\"left\":[{\"id\":\"3804\"}],\"plot_height\":250,\"plot_width\":250,\"renderers\":[{\"id\":\"3812\"}],\"title\":{\"id\":\"3790\"},\"toolbar\":{\"id\":\"3808\"},\"toolbar_location\":null,\"x_range\":{\"id\":\"3792\"},\"x_scale\":{\"id\":\"3796\"},\"y_range\":{\"id\":\"3794\"},\"y_scale\":{\"id\":\"3798\"}},\"id\":\"3789\",\"subtype\":\"Figure\",\"type\":\"Plot\"},{\"attributes\":{\"fill_alpha\":{\"value\":0.1},\"fill_color\":{\"value\":\"#1f77b4\"},\"line_alpha\":{\"value\":0.1},\"line_color\":{\"value\":\"#1f77b4\"},\"top\":{\"field\":\"top\"},\"width\":{\"value\":0.9},\"x\":{\"field\":\"x\"}},\"id\":\"3711\",\"type\":\"VBar\"},{\"attributes\":{},\"id\":\"3850\",\"type\":\"BasicTickFormatter\"},{\"attributes\":{\"axis\":{\"id\":\"3750\"},\"grid_line_color\":null,\"ticker\":null},\"id\":\"3753\",\"type\":\"Grid\"},{\"attributes\":{\"formatter\":{\"id\":\"3848\"},\"ticker\":{\"id\":\"3801\"}},\"id\":\"3800\",\"type\":\"LinearAxis\"},{\"attributes\":{},\"id\":\"3851\",\"type\":\"Selection\"},{\"attributes\":{},\"id\":\"3798\",\"type\":\"LinearScale\"},{\"attributes\":{},\"id\":\"3755\",\"type\":\"BasicTicker\"},{\"attributes\":{},\"id\":\"3852\",\"type\":\"UnionRenderers\"},{\"attributes\":{\"source\":{\"id\":\"3809\"}},\"id\":\"3813\",\"type\":\"CDSView\"},{\"attributes\":{\"toolbar\":{\"id\":\"3855\"},\"toolbar_location\":\"above\"},\"id\":\"3856\",\"type\":\"ToolbarBox\"},{\"attributes\":{},\"id\":\"3748\",\"type\":\"LinearScale\"},{\"attributes\":{\"formatter\":{\"id\":\"3832\"},\"ticker\":{\"id\":\"3751\"}},\"id\":\"3750\",\"type\":\"LinearAxis\"},{\"attributes\":{\"axis\":{\"id\":\"3804\"},\"dimension\":1,\"ticker\":null},\"id\":\"3807\",\"type\":\"Grid\"},{\"attributes\":{\"active_drag\":\"auto\",\"active_inspect\":\"auto\",\"active_multi\":null,\"active_scroll\":\"auto\",\"active_tap\":\"auto\"},\"id\":\"3808\",\"type\":\"Toolbar\"},{\"attributes\":{\"start\":0},\"id\":\"3744\",\"type\":\"DataRange1d\"},{\"attributes\":{},\"id\":\"3746\",\"type\":\"LinearScale\"},{\"attributes\":{\"text\":\"Node: 2\"},\"id\":\"3740\",\"type\":\"Title\"},{\"attributes\":{},\"id\":\"3717\",\"type\":\"Range1d\"},{\"attributes\":{\"fill_alpha\":{\"value\":0.1},\"fill_color\":{\"value\":\"#1f77b4\"},\"line_alpha\":{\"value\":0.1},\"line_color\":{\"value\":\"#1f77b4\"},\"top\":{\"field\":\"top\"},\"width\":{\"value\":0.9},\"x\":{\"field\":\"x\"}},\"id\":\"3811\",\"type\":\"VBar\"},{\"attributes\":{\"axis\":{\"id\":\"3725\"},\"grid_line_color\":null,\"ticker\":null},\"id\":\"3728\",\"type\":\"Grid\"},{\"attributes\":{\"formatter\":{\"id\":\"3834\"},\"ticker\":{\"id\":\"3755\"}},\"id\":\"3754\",\"type\":\"LinearAxis\"},{\"attributes\":{},\"id\":\"3742\",\"type\":\"Range1d\"},{\"attributes\":{\"source\":{\"id\":\"3709\"}},\"id\":\"3713\",\"type\":\"CDSView\"},{\"attributes\":{\"data_source\":{\"id\":\"3709\"},\"glyph\":{\"id\":\"3710\"},\"hover_glyph\":null,\"muted_glyph\":null,\"nonselection_glyph\":{\"id\":\"3711\"},\"selection_glyph\":null,\"view\":{\"id\":\"3713\"}},\"id\":\"3712\",\"type\":\"GlyphRenderer\"},{\"attributes\":{\"data\":{\"top\":[894,106],\"x\":[0,1]},\"selected\":{\"id\":\"3827\"},\"selection_policy\":{\"id\":\"3828\"}},\"id\":\"3734\",\"type\":\"ColumnDataSource\"},{\"attributes\":{\"text\":\"Node: 1\"},\"id\":\"3715\",\"type\":\"Title\"},{\"attributes\":{},\"id\":\"3767\",\"type\":\"Range1d\"},{\"attributes\":{\"fill_color\":{\"value\":\"#1f77b4\"},\"line_color\":{\"value\":\"#1f77b4\"},\"top\":{\"field\":\"top\"},\"width\":{\"value\":0.9},\"x\":{\"field\":\"x\"}},\"id\":\"3735\",\"type\":\"VBar\"},{\"attributes\":{},\"id\":\"3726\",\"type\":\"BasicTicker\"},{\"attributes\":{},\"id\":\"3721\",\"type\":\"LinearScale\"},{\"attributes\":{\"start\":0},\"id\":\"3719\",\"type\":\"DataRange1d\"},{\"attributes\":{\"below\":[{\"id\":\"3725\"}],\"center\":[{\"id\":\"3728\"},{\"id\":\"3732\"}],\"left\":[{\"id\":\"3729\"}],\"plot_height\":250,\"plot_width\":250,\"renderers\":[{\"id\":\"3737\"}],\"title\":{\"id\":\"3715\"},\"toolbar\":{\"id\":\"3733\"},\"toolbar_location\":null,\"x_range\":{\"id\":\"3717\"},\"x_scale\":{\"id\":\"3721\"},\"y_range\":{\"id\":\"3719\"},\"y_scale\":{\"id\":\"3723\"}},\"id\":\"3714\",\"subtype\":\"Figure\",\"type\":\"Plot\"},{\"attributes\":{\"data_source\":{\"id\":\"3809\"},\"glyph\":{\"id\":\"3810\"},\"hover_glyph\":null,\"muted_glyph\":null,\"nonselection_glyph\":{\"id\":\"3811\"},\"selection_glyph\":null,\"view\":{\"id\":\"3813\"}},\"id\":\"3812\",\"type\":\"GlyphRenderer\"}],\"root_ids\":[\"3857\"]},\"title\":\"Bokeh Application\",\"version\":\"2.2.3\"}};\n",
       "  var render_items = [{\"docid\":\"501f0cc1-fc37-4fb2-94a8-c3b03b2a445a\",\"root_ids\":[\"3857\"],\"roots\":{\"3857\":\"03de3e52-b050-4f6e-91e2-e2521f7b6f8c\"}}];\n",
       "  root.Bokeh.embed.embed_items_notebook(docs_json, render_items);\n",
       "\n",
       "  }\n",
       "  if (root.Bokeh !== undefined) {\n",
       "    embed_document(root);\n",
       "  } else {\n",
       "    var attempts = 0;\n",
       "    var timer = setInterval(function(root) {\n",
       "      if (root.Bokeh !== undefined) {\n",
       "        clearInterval(timer);\n",
       "        embed_document(root);\n",
       "      } else {\n",
       "        attempts++;\n",
       "        if (attempts > 100) {\n",
       "          clearInterval(timer);\n",
       "          console.log(\"Bokeh: ERROR: Unable to run BokehJS code because BokehJS library is missing\");\n",
       "        }\n",
       "      }\n",
       "    }, 10, root)\n",
       "  }\n",
       "})(window);"
      ],
      "application/vnd.bokehjs_exec.v0+json": ""
     },
     "metadata": {
      "application/vnd.bokehjs_exec.v0+json": {
       "id": "3857"
      }
     },
     "output_type": "display_data"
    }
   ],
   "source": [
    "plots = []\n",
    "for column in df.columns:\n",
    "    discrete_values = df[column].unique()\n",
    "    counts = list(df[column].value_counts())\n",
    "\n",
    "    p = figure(x_range=discrete_values, plot_height=250, title=f\"Node: {column}\",\n",
    "               toolbar_location=None, tools=\"\")\n",
    "\n",
    "    p.vbar(x=discrete_values, top=counts, width=0.9)\n",
    "\n",
    "    p.xgrid.grid_line_color = None\n",
    "    p.y_range.start = 0\n",
    "\n",
    "    plots.append(p)\n",
    "    \n",
    "# make a grid\n",
    "grid = gridplot(plots, ncols=len(df.columns), plot_width=250, plot_height=250)\n",
    "\n",
    "show(grid)"
   ]
  },
  {
   "cell_type": "code",
   "execution_count": 192,
   "id": "interracial-ladder",
   "metadata": {},
   "outputs": [
    {
     "ename": "ModuleNotFoundError",
     "evalue": "No module named 'bokeh.charts'",
     "output_type": "error",
     "traceback": [
      "\u001b[0;31m---------------------------------------------------------------------------\u001b[0m",
      "\u001b[0;31mModuleNotFoundError\u001b[0m                       Traceback (most recent call last)",
      "\u001b[0;32m<ipython-input-192-de417995fa5b>\u001b[0m in \u001b[0;36m<module>\u001b[0;34m\u001b[0m\n\u001b[0;32m----> 1\u001b[0;31m \u001b[0;32mfrom\u001b[0m \u001b[0mbokeh\u001b[0m\u001b[0;34m.\u001b[0m\u001b[0mcharts\u001b[0m \u001b[0;32mimport\u001b[0m \u001b[0mHeatMap\u001b[0m\u001b[0;34m,\u001b[0m \u001b[0mbins\u001b[0m\u001b[0;34m,\u001b[0m \u001b[0moutput_file\u001b[0m\u001b[0;34m,\u001b[0m \u001b[0mshow\u001b[0m\u001b[0;34m,\u001b[0m \u001b[0mvplot\u001b[0m\u001b[0;34m\u001b[0m\u001b[0;34m\u001b[0m\u001b[0m\n\u001b[0m\u001b[1;32m      2\u001b[0m \u001b[0;34m\u001b[0m\u001b[0m\n\u001b[1;32m      3\u001b[0m \u001b[0mhm\u001b[0m \u001b[0;34m=\u001b[0m \u001b[0mfigure\u001b[0m\u001b[0;34m(\u001b[0m\u001b[0mtitle\u001b[0m\u001b[0;34m=\u001b[0m\u001b[0;34m\"Categorical Heatmap\"\u001b[0m\u001b[0;34m,\u001b[0m \u001b[0mtools\u001b[0m\u001b[0;34m=\u001b[0m\u001b[0;34m\"hover\"\u001b[0m\u001b[0;34m,\u001b[0m \u001b[0mtoolbar_location\u001b[0m\u001b[0;34m=\u001b[0m\u001b[0;32mNone\u001b[0m\u001b[0;34m,\u001b[0m \u001b[0mx_range\u001b[0m\u001b[0;34m=\u001b[0m\u001b[0mlist\u001b[0m\u001b[0;34m(\u001b[0m\u001b[0mdf\u001b[0m\u001b[0;34m.\u001b[0m\u001b[0mcolumns\u001b[0m\u001b[0;34m)\u001b[0m\u001b[0;34m,\u001b[0m \u001b[0my_range\u001b[0m\u001b[0;34m=\u001b[0m\u001b[0mlist\u001b[0m\u001b[0;34m(\u001b[0m\u001b[0mdf\u001b[0m\u001b[0;34m.\u001b[0m\u001b[0mcolumns\u001b[0m\u001b[0;34m)\u001b[0m\u001b[0;34m)\u001b[0m\u001b[0;34m\u001b[0m\u001b[0;34m\u001b[0m\u001b[0m\n\u001b[1;32m      4\u001b[0m \u001b[0;34m\u001b[0m\u001b[0m\n\u001b[1;32m      5\u001b[0m \u001b[0mhm\u001b[0m\u001b[0;34m.\u001b[0m\u001b[0mrect\u001b[0m\u001b[0;34m(\u001b[0m\u001b[0mdf\u001b[0m\u001b[0;34m.\u001b[0m\u001b[0mcolumns\u001b[0m\u001b[0;34m,\u001b[0m \u001b[0mdf\u001b[0m\u001b[0;34m.\u001b[0m\u001b[0mcolumns\u001b[0m\u001b[0;34m,\u001b[0m \u001b[0mwidth\u001b[0m\u001b[0;34m=\u001b[0m\u001b[0;36m1\u001b[0m\u001b[0;34m,\u001b[0m \u001b[0mheight\u001b[0m\u001b[0;34m=\u001b[0m\u001b[0;36m1\u001b[0m\u001b[0;34m,\u001b[0m \u001b[0;34m)\u001b[0m\u001b[0;34m\u001b[0m\u001b[0;34m\u001b[0m\u001b[0m\n",
      "\u001b[0;31mModuleNotFoundError\u001b[0m: No module named 'bokeh.charts'"
     ]
    }
   ],
   "source": [
    "from bokeh.charts import HeatMap, bins, output_file, show, vplot\n",
    "\n",
    "hm = figure(title=\"Categorical Heatmap\", tools=\"hover\", toolbar_location=None, x_range=list(df.columns), y_range=list(df.columns))\n",
    "\n",
    "hm.rect(df.columns, df.columns, width=1, height=1, )\n",
    "show(hm)"
   ]
  },
  {
   "cell_type": "code",
   "execution_count": 193,
   "id": "adjusted-fabric",
   "metadata": {},
   "outputs": [
    {
     "ename": "SyntaxError",
     "evalue": "invalid syntax (<ipython-input-193-c624e984f5b1>, line 4)",
     "output_type": "error",
     "traceback": [
      "\u001b[0;36m  File \u001b[0;32m\"<ipython-input-193-c624e984f5b1>\"\u001b[0;36m, line \u001b[0;32m4\u001b[0m\n\u001b[0;31m    show(hm1)bokeh.plotting\u001b[0m\n\u001b[0m             ^\u001b[0m\n\u001b[0;31mSyntaxError\u001b[0m\u001b[0;31m:\u001b[0m invalid syntax\n"
     ]
    }
   ],
   "source": [
    "from bokeh.charts import HeatMap\n",
    "from bokeh.sampledata.autompg import autompg\n",
    "hm1 = HeatMap(autompg, x=bins('mpg'), y=bins('displ'))\n",
    "show(hm1)bokeh.plotting"
   ]
  },
  {
   "cell_type": "code",
   "execution_count": 194,
   "id": "hybrid-bulgaria",
   "metadata": {},
   "outputs": [
    {
     "data": {
      "image/png": "[encoded data removed]",
      "text/plain": [
       "<Figure size 432x288 with 2 Axes>"
      ]
     },
     "metadata": {},
     "output_type": "display_data"
    }
   ],
   "source": [
    "import numpy as np\n",
    "import seaborn as sns\n",
    "\n",
    "num_values = len(df.columns)\n",
    "\n",
    "mask = np.ones([num_values, num_values])\n",
    "\n",
    "true_values = np.zeros([num_values, num_values])\n",
    "for edge in G.edges:\n",
    "    x = int(edge[0])\n",
    "    y = int(edge[1])\n",
    "    true_values[x][y] = 1\n",
    "    true_values[y][x] = 1\n",
    "    \n",
    "p_values = []\n",
    "for column_index, column in enumerate(df.columns):\n",
    "    row_p_values = []\n",
    "    for row_index, row in enumerate(df.columns):\n",
    "        \n",
    "        ct = pd.crosstab(df[column], df[row])\n",
    "        stat, p_value, degrees_of_freedom, expected = chi2_contingency(ct)\n",
    "        row_p_values.append(p_value)\n",
    "        \n",
    "        if column_index > row_index:\n",
    "            mask[column_index, row_index] = False\n",
    "        \n",
    "    p_values.append(row_p_values)\n",
    "    \n",
    "p_values = np.array(p_values)\n",
    "hm_data =  p_values \n",
    "ax = sns.heatmap(\n",
    "    hm_data,\n",
    "    xticklabels=df.columns,\n",
    "    yticklabels=df.columns,\n",
    "    mask=mask,\n",
    "    linewidths=.5,\n",
    "    cmap=\"YlGnBu\"\n",
    ")"
   ]
  },
  {
   "cell_type": "code",
   "execution_count": 195,
   "id": "fatty-inflation",
   "metadata": {},
   "outputs": [
    {
     "data": {
      "image/png": "[encoded data removed]",
      "text/plain": [
       "<Figure size 432x288 with 2 Axes>"
      ]
     },
     "metadata": {},
     "output_type": "display_data"
    }
   ],
   "source": [
    "#sns.set_palette(reversed(sns.color_palette(\"YlGnBu\", 1)), 1)\n",
    "ax = sns.heatmap(true_values,xticklabels=df.columns, yticklabels=df.columns, mask=mask, linewidths=.5, cmap=\"YlGnBu\")\n"
   ]
  },
  {
   "cell_type": "code",
   "execution_count": 198,
   "id": "difficult-crack",
   "metadata": {},
   "outputs": [
    {
     "data": {
      "image/png": "[encoded data removed]",
      "text/plain": [
       "<Figure size 432x288 with 2 Axes>"
      ]
     },
     "metadata": {},
     "output_type": "display_data"
    }
   ],
   "source": [
    "flip_bool = lambda t: not t\n",
    "vfunc = np.vectorize(flip_bool)\n",
    "flipped_true_values = vfunc(true_values)\n",
    "\n",
    "hm_data =  flipped_true_values - p_values \n",
    "ax = sns.heatmap(\n",
    "    hm_data,\n",
    "    xticklabels=df.columns,\n",
    "    yticklabels=df.columns,\n",
    "    mask=mask,\n",
    "    linewidths=.5,\n",
    "    cmap=\"Spectral\"\n",
    ")"
   ]
  },
  {
   "cell_type": "code",
   "execution_count": 181,
   "id": "needed-legislation",
   "metadata": {},
   "outputs": [
    {
     "data": {
      "text/plain": [
       "True"
      ]
     },
     "execution_count": 181,
     "metadata": {},
     "output_type": "execute_result"
    }
   ],
   "source": [
    "#red --> hat ne edge vergessen\n",
    "#gelb --> hat edge korrekt vorhergesagt\n",
    "#blau --> hat edge vorausgesagt, ist aber keine da"
   ]
  },
  {
   "cell_type": "code",
   "execution_count": 197,
   "id": "informational-edwards",
   "metadata": {},
   "outputs": [
    {
     "data": {
      "text/plain": [
       "array([[ True,  True,  True, False, False],\n",
       "       [ True,  True, False,  True, False],\n",
       "       [ True, False,  True,  True, False],\n",
       "       [False,  True,  True,  True, False],\n",
       "       [False, False, False, False,  True]])"
      ]
     },
     "execution_count": 197,
     "metadata": {},
     "output_type": "execute_result"
    }
   ],
   "source": []
  },
  {
   "cell_type": "code",
   "execution_count": 185,
   "id": "generous-romantic",
   "metadata": {},
   "outputs": [
    {
     "data": {
      "text/plain": [
       "False"
      ]
     },
     "execution_count": 185,
     "metadata": {},
     "output_type": "execute_result"
    }
   ],
   "source": [
    "true_values"
   ]
  },
  {
   "cell_type": "code",
   "execution_count": null,
   "id": "decreased-coordinator",
   "metadata": {},
   "outputs": [],
   "source": []
  }
 ],
 "metadata": {
  "kernelspec": {
   "display_name": "Python 3",
   "language": "python",
   "name": "python3"
  },
  "language_info": {
   "codemirror_mode": {
    "name": "ipython",
    "version": 3
   },
   "file_extension": ".py",
   "mimetype": "text/x-python",
   "name": "python",
   "nbconvert_exporter": "python",
   "pygments_lexer": "ipython3",
   "version": "3.8.5"
  }
 },
 "nbformat": 4,
 "nbformat_minor": 5
}
